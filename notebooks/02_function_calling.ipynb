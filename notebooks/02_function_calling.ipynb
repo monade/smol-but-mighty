{
 "cells": [
  {
   "cell_type": "markdown",
   "metadata": {
    "id": "ClQL_xjZNPtZ"
   },
   "source": [
    "# Function Calling\n",
    "\n",
    "In questo esercizio faremo fine-tuning del modello SmolLM2-135-Instruct su un task molto specifico (e molto utile): function calling.\n",
    "\n",
    "In cosa consiste? Sostanzialmente stiamo insegnando a un modello linguistico, data una serie di funzioni con relativi parametri e una richiesta di un utente, a selezionare la funzione più opportuna da invocare.\n",
    "\n",
    "Un esempio? Pensate ad Alexa. Dico \"Accendi la luce\", e Alexa invoca la funzione per accendere la luce.\n",
    "\n",
    "Come dataset usiamo \"glaiveai/glaive-function-calling-v2\".\n",
    "\n",
    "Come tecnica di fine tuning, **in questo caso usiamo LoRA**.\n",
    "\n",
    "\n",
    "Prima di tutto installiamo tutti i pacchetti di cui abbiamo bisogno:"
   ]
  },
  {
   "cell_type": "code",
   "execution_count": null,
   "metadata": {
    "collapsed": true,
    "id": "iCYIk0omoL_7"
   },
   "outputs": [],
   "source": [
    "!pip install huggingface-hub numpy torch trl"
   ]
  },
  {
   "cell_type": "code",
   "execution_count": null,
   "metadata": {
    "collapsed": true,
    "id": "zbsPopbHrzOz"
   },
   "outputs": [],
   "source": [
    "!pip install -U datasets fsspec bitsandbytes"
   ]
  },
  {
   "cell_type": "markdown",
   "source": [
    "## **Download del Modello**\n",
    "\n",
    "Prima di tutto però carichiamo il modello base.\n",
    "In questo caso usiamo `SmolLM2-135M-Instruct`, che è la versione addestrata sulle chat del modello grezzo `SmolLM2-135M`.\n",
    "\n",
    "Questo modello se la cava decentemente a rispondere a gestire conversazioni semplici, come rispondere a delle domande degli utenti, ma non è stato addestrato su nessun task specifico."
   ],
   "metadata": {
    "id": "9i78F7_NY967"
   }
  },
  {
   "cell_type": "code",
   "execution_count": null,
   "metadata": {
    "id": "RRfTxl1qMMoq"
   },
   "outputs": [],
   "source": [
    "# Importiamo le dipendenze\n",
    "from transformers import AutoModelForCausalLM, AutoTokenizer, BitsAndBytesConfig\n",
    "import torch\n",
    "\n",
    "# Definiamo il dispositivo su cui eseguire il modello in base alla disponibilità.\n",
    "# CUDA (GPU), MPS (Apple Silicon) o CPU.\n",
    "device = (\n",
    "    \"cuda\"\n",
    "    if torch.cuda.is_available()\n",
    "    else \"mps\" if torch.backends.mps.is_available() else \"cpu\"\n",
    ")\n",
    "\n",
    "# Carichiamo il modello SmolLM2-135-Instruct\n",
    "model_name = \"HuggingFaceTB/SmolLM2-135M-Instruct\"\n",
    "\n",
    "# Scarichiamo il modello\n",
    "model = AutoModelForCausalLM.from_pretrained(\n",
    "    model_name,\n",
    "    device_map=device,\n",
    ")\n",
    "\n",
    "# Scarichiamo il relativo tokenizer\n",
    "tokenizer = AutoTokenizer.from_pretrained(model_name)"
   ]
  },
  {
   "cell_type": "markdown",
   "metadata": {
    "id": "G7QQBitXODbK"
   },
   "source": [
    "Abbiamo caricato il modello!\n",
    "Ora creiamo una funzione di utility per poterlo eseguire comodamente:"
   ]
  },
  {
   "cell_type": "code",
   "execution_count": null,
   "metadata": {
    "id": "YTADvWvVOHko"
   },
   "outputs": [],
   "source": [
    "# Definiamo una funzione che genera una risposta dal modello.\n",
    "def generate_response(model, tokenizer, prompt, system_prompt=None):\n",
    "    # Preparo il prompt in modalità chat e lo formatto in modo che il modello possa leggerlo.\n",
    "    messages = [{\"role\": \"user\", \"content\": prompt}]\n",
    "    # Se è presente un system prompt, lo aggiungo alla lista dei messaggi.\n",
    "    if system_prompt:\n",
    "        messages.insert(0, {\"role\": \"system\", \"content\": system_prompt})\n",
    "    formatted_prompt = tokenizer.apply_chat_template(messages, tokenize=False)\n",
    "    # Tokenizzo il prompt\n",
    "    inputs = tokenizer(formatted_prompt, return_tensors=\"pt\").to(device)\n",
    "    # Lo passo al modello e gli chiedo di generare una risposta.\n",
    "    outputs = model.generate(**inputs, max_new_tokens=512)\n",
    "    # Decodifico la risposta del modello.\n",
    "    output = tokenizer.decode(outputs[0], skip_special_tokens=True)\n",
    "    # Stampo la risposta, prendendo l'ultima parte della risposta del modello.\n",
    "    return output.split(\"assistant\")[-1].strip()"
   ]
  },
  {
   "cell_type": "markdown",
   "metadata": {
    "id": "53MwtbRuIZKm"
   },
   "source": [
    "E ora proviamolo su una domanda generalista:"
   ]
  },
  {
   "cell_type": "code",
   "execution_count": null,
   "metadata": {
    "id": "QOejWER-UIMt"
   },
   "outputs": [],
   "source": [
    "# Proviamo a chiedergli una domanda generale.\n",
    "print(generate_response(model, tokenizer, \"What's the capital of France?\"))"
   ]
  },
  {
   "cell_type": "markdown",
   "source": [
    "Su questo tipo di task sembra cavarsela.\n",
    "\n",
    "Noi però vogliamo insegnargli a gestire un task di tipo **function calling**. Cosa si intende?\n",
    "\n",
    "Sostanzialmente vogliamo che, a partire da una lista di funzioni e una richiesta di un utente, sia in grado di selezionare la funzione corretta e scegliere i parametri idonei rispettando la struttura data."
   ],
   "metadata": {
    "id": "S-ociOWnZmp6"
   }
  },
  {
   "cell_type": "markdown",
   "metadata": {
    "id": "K7rwOfBC5wAR"
   },
   "source": [
    "## Test modello base\n",
    "Per comodità, definiamo una funzione che, date le firme di funzioni in formato JSON Schema di alcune funzioni con i loro parametri (in json o come stringa), ritorni un system prompt che chieda al modello di eseguire il nostro task di function calling."
   ]
  },
  {
   "cell_type": "code",
   "execution_count": null,
   "metadata": {
    "id": "R-jOmVaA6B4g"
   },
   "outputs": [],
   "source": [
    "import json\n",
    "\n",
    "def system_prompt_from_functions(functions: list[str | dict]):\n",
    "  fn = functions\n",
    "  if any(isinstance(element, dict) for element in functions):\n",
    "    fn = [json.dumps(fn, indent=0) for fn in functions]\n",
    "  functions_as_string = '\\n'.join(fn)\n",
    "  base_prompt = 'You are a helpful assistant with access to the following functions. Use them if required - '\n",
    "  return '\\n'.join([base_prompt, functions_as_string])\n"
   ]
  },
  {
   "cell_type": "markdown",
   "metadata": {
    "id": "ZArWY38VUMu3"
   },
   "source": [
    "Ora testiamo il modello base prima del finetuning. Come se la cava sul function calling?"
   ]
  },
  {
   "cell_type": "code",
   "execution_count": null,
   "metadata": {
    "id": "4-obsov3Wjki"
   },
   "outputs": [],
   "source": [
    "# Definiamo la firma di una funzione in formato JSON Schema\n",
    "function = {\n",
    "\"name\": \"validate_fiscal_code\",\n",
    "\"description\": \"Given a fiscal code, it returns true if it's valid, false otherwise\",\n",
    "\"parameters\": {\n",
    "  \"type\": \"object\",\n",
    "  \"properties\": {\n",
    "    \"fiscal_code\": {\n",
    "      \"type\": \"string\",\n",
    "      \"description\": \"The fiscal code to validate\"\n",
    "    }\n",
    "  },\n",
    "  \"required\": [\"fiscal_code\"]}\n",
    "}\n",
    "\n",
    "# E chiediamo al modello di generare una password di 10 caratteri.\n",
    "print(generate_response(\n",
    "        model,\n",
    "        tokenizer,\n",
    "        \"Is CTTPLL98T10B123F a valid fiscal code?.\",\n",
    "        system_prompt=system_prompt_from_functions([function])\n",
    "    ))"
   ]
  },
  {
   "cell_type": "markdown",
   "metadata": {
    "id": "EjE6dqJxX9mB"
   },
   "source": [
    "Come possiamo vedere, seppur il modello base è capace di rispondere correttamente alla domanda sulla capitale della Francia, non è in grado di invocare la funzione per validare un codice fiscale.\n",
    "\n",
    "Ci saremmo aspettati un output simile l seguente:\n",
    "\n",
    "`<functioncall> {\"name\": \"validate_fiscal_code\", \"arguments\": '{\"fiscal_code\": \"CTTPLL98T10B123F\"}'} <|endoftext|>`\n",
    "\n",
    "Quello che vogliamo fare è quindi insegnare a questo modello come invocare una funzione, data la sua descrizione e i suoi parametri, così che possa poi essere utile in ambiti come la domotica o come assistente virtuale simile ad alexa!"
   ]
  },
  {
   "cell_type": "markdown",
   "metadata": {
    "id": "DZV9LOF2YM76"
   },
   "source": [
    "## **Preparazione dei Dataset**\n",
    "\n",
    "Per questo esercizio, useremo il dataset `glaiveai/glaive-function-calling-v2`.\n",
    "\n",
    "Possiamo dargli un'occhiata da qui:\n",
    "https://huggingface.co/datasets/glaiveai/glaive-function-calling-v2\n",
    "\n",
    "Carichiamolo da Huggingface e mostriamo dei dati di esempio:"
   ]
  },
  {
   "cell_type": "code",
   "execution_count": null,
   "metadata": {
    "id": "zsIp0zgvFkaB"
   },
   "outputs": [],
   "source": [
    "# Importiamo le dipendeze per i dataset\n",
    "import json, multiprocessing\n",
    "from datasets import load_dataset\n",
    "\n",
    "# Carichiamo il dataset dalla repository di hugging face.\n",
    "dataset_path = \"glaiveai/glaive-function-calling-v2\"\n",
    "dataset = load_dataset(dataset_path, num_proc=multiprocessing.cpu_count())\n",
    "\n",
    "# Mostriamo degli esempi del dataset\n",
    "print(\"Ecco un esempio:\", json.dumps(dataset[\"train\"][0], indent=4))\n",
    "print(\"Eccone un altro:\", json.dumps(dataset[\"train\"][2], indent=4))\n",
    "\n",
    "# Notare che dataset è un oggetto Dataset python contente solo la parte di training, quindi dovremo dividerlo.\n",
    "print(\"Chiavi del dizionario:\")\n",
    "print(list(dataset.keys()))\n",
    "print(dataset)"
   ]
  },
  {
   "cell_type": "markdown",
   "metadata": {
    "id": "-BUrtMioI4Ys"
   },
   "source": [
    "Questo dataset contiene anche alcune chat dove non viene utilizzata nessun tipo di funzione.\n",
    "Perciò per il finetuning del modello andremo a filtrare solo le chat che contengono una function call oppure dove il modello non è in grado di assistere."
   ]
  },
  {
   "cell_type": "code",
   "execution_count": null,
   "metadata": {
    "id": "A1u1BEu2J_y1"
   },
   "outputs": [],
   "source": [
    "# Imposto un seed con un valore fisso, in modo che ripetendo questo colab, il risultato sarà sempre uguale.\n",
    "seed = 42\n",
    "\n",
    "reduced_dataset = dataset['train'].filter(\n",
    "        lambda x: \"I'm sorry\" in x[\"chat\"] or \"functioncall\" in x[\"chat\"]\n",
    "    )\n",
    "reduced_dataset = reduced_dataset.shuffle(seed)"
   ]
  },
  {
   "cell_type": "markdown",
   "metadata": {
    "id": "_hjdavgIYyWo"
   },
   "source": [
    "Per un corretto allenamento dobbiamo stare attenti al numero di casi nel dataset in cui il modello non è in grado di rispondere.\n",
    "\n",
    "Ovvero dobbiamo selezionare un numero di chat nel dataset in cui è presente una funzione che l'assistente non è in grado di svolgere, perchè non fornita nel system prompt (chat facilmente identificabili con `\"I'm sorry\"`), e un certo numero di chat in cui l'assistente è in grado di svolgere la richiesta fatta.\n",
    "\n",
    "Il lavoro di preprocessing sui dataset è fondamentale per aumentare la qualità del training.\n",
    "\n",
    "Garbage in -> garbage out."
   ]
  },
  {
   "cell_type": "code",
   "execution_count": null,
   "metadata": {
    "id": "0FdMyAEuvlIx"
   },
   "outputs": [],
   "source": [
    "import random, re\n",
    "from datasets import concatenate_datasets\n",
    "\n",
    "# Definiamo il numero di samples del dataset che vogliamo prendere per le\n",
    "# funzioni che riesce e non riesce ad identificare\n",
    "missed_functions_amount, found_functions_amount = 100000, 100000\n",
    "repeat_multiple_arguments_chats_pct = 0.75\n",
    "found_functions_with_arguments = int(found_functions_amount * repeat_multiple_arguments_chats_pct)\n",
    "n_total_samples = missed_functions_amount + found_functions_amount + found_functions_with_arguments\n",
    "\n",
    "# Funzione che data una chat come stringa ritorna se ha più di un argomento\n",
    "def has_more_than_one_argument(text):\n",
    "    dict_arguments_str = re.search(r'\"arguments\"\\s*:\\s*({.*?})\\s*(?=<\\|endoftext\\|>)', text, re.DOTALL)\n",
    "    if dict_arguments_str:\n",
    "        return dict_arguments_str.group(1)[:-1].count(\":\") > 1\n",
    "    return False\n",
    "\n",
    "# Dividiamo il dataset ottenuto prima in: function_found e function_missed\n",
    "# Se \"I'm sorry\" è presente nella risposta la riga verrà considerata come \"missed\"\n",
    "# Altrimenti come \"found\"\n",
    "function_missed = reduced_dataset.filter(\n",
    "  lambda x: \"I'm sorry\" in x[\"chat\"] and not (\"functioncall\" in x[\"chat\"])\n",
    ")\n",
    "function_found = reduced_dataset.filter(\n",
    "  lambda x: \"functioncall\" in x[\"chat\"]\n",
    ")\n",
    "\n",
    "function_with_arguments_found = function_found.filter(\n",
    "    lambda x: has_more_than_one_argument(x[\"chat\"].replace(\"'\", \"\"))\n",
    ")\n",
    "\n",
    "# Ora tronchiamo il dataset in base ai parametri definiti in precedenza.\n",
    "function_missed_truncated = function_missed.select(\n",
    "  range(min(function_missed.num_rows, missed_functions_amount))\n",
    ")\n",
    "function_found_truncated = function_found.select(\n",
    "  range(min(function_found.num_rows, found_functions_amount))\n",
    ")\n",
    "function_with_arguments_truncated = function_with_arguments_found.select(\n",
    "  range(min(function_with_arguments_found.num_rows, found_functions_with_arguments))\n",
    ")\n",
    "\n",
    "# Concateniamo i due dataset ottenuti\n",
    "concatenated_dataset = concatenate_datasets([\n",
    "    function_missed_truncated,\n",
    "    function_found_truncated,\n",
    "    function_with_arguments_truncated\n",
    "]).shuffle(seed)\n",
    "print(f\"Il Dataset contiene {concatenated_dataset.num_rows} righe.\")"
   ]
  },
  {
   "cell_type": "markdown",
   "metadata": {
    "id": "_Rd5N0d916QM"
   },
   "source": [
    "Ora dobbiamo applicare il formato corretto a tutto il dataset. Questo perché il modello di partenza è di tipo \"Instruct\", quindi è stato addestrato a rispondere in formato conversazionale (chat).\n",
    "\n",
    "Per questo creiamo una funzione che sarà mappata su tutto il dataset"
   ]
  },
  {
   "cell_type": "code",
   "execution_count": null,
   "metadata": {
    "id": "dNyuqMtQ156V"
   },
   "outputs": [],
   "source": [
    "import re\n",
    "\n",
    "# Rimuoviamo possibili tag rimasti\n",
    "def clear_message(msg_str):\n",
    "    return msg_str.replace(\" <|endoftext|>\", \"\").strip()\n",
    "\n",
    "# Funzione che trasforma una stringa di chat in una lista di dizionari con ruoli e contenuti\n",
    "def parse_chat_to_dicts(chat_str):\n",
    "    # Selezioniamo la stringa fino all'ultima \"FUNCTION RESPONSE\"\n",
    "    # Così abbiamo più esempi per allenare il nostro modello\n",
    "    matches = list(re.finditer(r\"FUNCTION\\sRESPONSE\\:\", chat_str))\n",
    "    if matches:\n",
    "        last_match = matches[-1]\n",
    "        chat_until_last_function_call = chat_str[:last_match.start()].strip()\n",
    "    else:\n",
    "        chat_until_last_function_call = chat_str.strip()\n",
    "    # Togliamo i caratteri ' che son lì per motivi di formattazione\n",
    "    chat_until_last_function_call = chat_until_last_function_call.replace(\"'\", '')\n",
    "    # Ora dividiamo la stringa ottenuta in blocchi\n",
    "    # Questi blocchi sono i messaggi di ciascun USER, ASSISTANT e FUNCTION RESPONSE\n",
    "    blocks = re.split(r'\\n{2,}', chat_until_last_function_call.strip())\n",
    "    result = []\n",
    "    skip_next_assistant = False\n",
    "\n",
    "    for block in blocks:\n",
    "        # Se questo è un ASSISTANT block e prima c'era un FUNCTION RESPONSE, lo saltiamo\n",
    "        if skip_next_assistant:\n",
    "            if block.startswith(\"ASSISTANT:\"):\n",
    "                skip_next_assistant = False\n",
    "                continue\n",
    "            else:\n",
    "                skip_next_assistant = False\n",
    "\n",
    "        # Se questo blocco è FUNCTION RESPONSE settiamo il flag per skippare il rpossimo ASSISTANT\n",
    "        # e non parsiamo questo blocco.\n",
    "        if block.startswith(\"FUNCTION RESPONSE:\"):\n",
    "            skip_next_assistant = True\n",
    "            continue\n",
    "\n",
    "        # Se arrivimo fino a qui aggiungiamo il blocco con il rispettivo ruolo alla coda dei messaggi\n",
    "        if block.startswith(\"USER:\"):\n",
    "            role = \"user\"\n",
    "            content = block.replace(\"USER:\", \"\").strip()\n",
    "        elif block.startswith(\"ASSISTANT:\"):\n",
    "            role = \"assistant\"\n",
    "            content = block.replace(\"ASSISTANT:\", \"\").strip()\n",
    "        else:\n",
    "            # Se non riconosciamo il ruolo lo skippiamo\n",
    "            continue\n",
    "        #print(content)\n",
    "        #print((\"-\" if block != blocks[-1] else \"#\") * 100)\n",
    "        # Aggiungiamo il messaggio alla coda\n",
    "        result.append({\"role\": role, \"content\": clear_message(content)})\n",
    "\n",
    "    return result\n",
    "\n",
    "def tokenize_dataset(examples):\n",
    "    chats = []\n",
    "    for system_entry, chat_entry in zip(examples[\"system\"], examples[\"chat\"]):\n",
    "        # Estraiamo il system prompt dopo \"SYSTEM:\"\n",
    "        system_prompt = system_entry.split(\"SYSTEM:\")[-1].strip()\n",
    "\n",
    "        # Creiamo una lista di messaggi\n",
    "        messages = [{\"role\": \"system\", \"content\": system_prompt}] + parse_chat_to_dicts(chat_entry)\n",
    "        formatted_prompt = tokenizer.apply_chat_template(messages, tokenize=False)\n",
    "        chats.append(formatted_prompt)\n",
    "    return tokenizer(chats, truncation=True, padding=\"max_length\", max_length=512)\n",
    "\n",
    "# Applichiamo il mapping al dataset\n",
    "whole_dataset = concatenated_dataset.map(\n",
    "  tokenize_dataset,\n",
    "  batched=True,\n",
    "  remove_columns=concatenated_dataset.column_names,\n",
    ")\n"
   ]
  },
  {
   "cell_type": "markdown",
   "metadata": {
    "id": "ll-W68ZNEwFA"
   },
   "source": [
    "Ora dividiamo il dataset in `training` e `validation`"
   ]
  },
  {
   "cell_type": "code",
   "execution_count": null,
   "metadata": {
    "id": "6nz5ZKUOEvhp"
   },
   "outputs": [],
   "source": [
    "# Fattore dei dati da utilizzare per la fase di evaluation e non per il training\n",
    "train_eval_split = 0.02\n",
    "\n",
    "# split between train and validation\n",
    "train_eval_dataset = whole_dataset.train_test_split(test_size=train_eval_split)\n",
    "\n",
    "print(f\"Il Dataset diviso contiene \"\n",
    "      f\"{train_eval_dataset['train'].num_rows} righe per il training e \"\n",
    "      f\"{train_eval_dataset['test'].num_rows} righe per la validation.\"\n",
    ")\n",
    "\n",
    "print(\"Eccone un esempio:\\n\", train_eval_dataset['train'][1])\n"
   ]
  },
  {
   "cell_type": "markdown",
   "metadata": {
    "id": "dvYcIk2ZpQcS"
   },
   "source": [
    "## **Addestramento del Modello**\n",
    "\n",
    "Adesso manca la parte più importante, ovvero **addestrare** il nostro modello sui dati che abbiamo preparato!\n",
    "\n",
    "Iniziamo a definire i paramentri di training e di LoRA.\n",
    "\n",
    "**LoRA (Low-Rank-Adaptation)** è una tecnica **PEFT (Parameter-Efficient Fine-Tuning model)** che non va a modificare tutti parametri del modello, bensì ne aggiunge alcuni in più e ottimizza solo quelli, permettendo così al modello di adeguarsi al meglio al nuovo obbiettivo, senza dimenticare completamente i concetti imparati inizialmente.\n"
   ]
  },
  {
   "cell_type": "code",
   "execution_count": null,
   "metadata": {
    "id": "9ryko3Woofqh"
   },
   "outputs": [],
   "source": [
    "import os\n",
    "from peft import get_peft_model, LoraConfig, PeftModel\n",
    "from trl import SFTTrainer, SFTConfig\n",
    "from transformers import TrainingArguments\n",
    "\n",
    "\n",
    "# LoRA Hyperparameters\n",
    "lora_alpha = 64 # Più alto = più valore alle nuove cose apprese. Valore basso = più valore al training originale.\n",
    "lora_r = 16 # Quanto è grande la matrice Lora. Più è grande, più apprende, ma più diventa pesante il training\n",
    "lora_dropout = 0.12 # % di parametri da riazzerare. Serve a evitare overfitting.\n",
    "\n",
    "# Training Parameters\n",
    "num_train_epochs = 1\n",
    "learning_rate = 5e-4 # quanto veloce è l'apprendimento. Valore alto = rapido ma instabile\n",
    "gradient_checkpointing = True # Ottimizzazione per ridurre la (V)RAM consumata\n",
    "tf32 = False\n",
    "bf16=False\n",
    "torch_compile = True # Ottimizzazione su torch\n",
    "\n",
    "# Save params\n",
    "name = f\"SmolLM2-135M-Instruct-noqlora-r{lora_r}-alpha{lora_alpha}-BIG\" # nome con cui salviamo il modello\n",
    "output_dir = f\"results/{name}\"\n",
    "if not os.path.exists('results'):\n",
    "  os.mkdir('results')\n",
    "if not os.path.exists(output_dir):\n",
    "  os.mkdir(output_dir)\n",
    "\n",
    "# Lora Config\n",
    "lora_config = LoraConfig(\n",
    "    r=lora_r,\n",
    "    lora_alpha=lora_alpha,\n",
    "    lora_dropout=lora_dropout,\n",
    "    target_modules = [\"q_proj\", \"k_proj\", \"v_proj\", \"o_proj\"], # su quali matrici applicare LORA. Queste 4 sono quelle del transformer\n",
    "    init_lora_weights=\"gaussian\", # Come inizializziamo la matrice? gaussian = gaussiana, zeros = tutto a zero\n",
    "    task_type=\"CAUSAL_LM\" # Standard per i modelli linguistici\n",
    ")\n",
    "\n",
    "# Carichiamo peft\n",
    "peft_model = get_peft_model(model, lora_config)\n",
    "peft_model.print_trainable_parameters()\n",
    "\n",
    "# Definiamo i parametri per il training\n",
    "training_args = SFTConfig(\n",
    "    num_train_epochs=num_train_epochs,\n",
    "    per_device_train_batch_size=8,\n",
    "    per_device_eval_batch_size=2,\n",
    "    gradient_accumulation_steps=2,\n",
    "    gradient_checkpointing=gradient_checkpointing,\n",
    "    bf16=bf16,\n",
    "    tf32=tf32,\n",
    "    torch_compile=torch_compile,\n",
    "    dataloader_pin_memory=False,\n",
    "    warmup_steps=50,\n",
    "    max_steps=300,\n",
    "    learning_rate=learning_rate,\n",
    "    weight_decay=0.01,\n",
    "    lr_scheduler_type=\"cosine\",\n",
    "    optim=\"adamw_torch\",\n",
    "    logging_strategy=\"steps\",\n",
    "    logging_steps=5,\n",
    "    eval_strategy=\"steps\",\n",
    "    eval_steps=25,\n",
    "    save_strategy=\"steps\",\n",
    "    save_steps=100,\n",
    "    output_dir=output_dir,\n",
    "    remove_unused_columns=True,\n",
    "    seed=seed,\n",
    "    report_to=\"none\",\n",
    "\n",
    ")\n"
   ]
  },
  {
   "cell_type": "markdown",
   "metadata": {
    "id": "CKT-QMsNL82-"
   },
   "source": [
    "Come possiamo vedere i parametri addestrabili sono solo 1,843,200 rispetto ai 135M di parametri del modello totale.\n",
    "\n",
    "Questo numero dipende da `lora_r`.\n",
    "\n",
    "Ora possiamo creare il trainer e iniziare l'addrestramento!"
   ]
  },
  {
   "cell_type": "code",
   "execution_count": null,
   "metadata": {
    "id": "LyyHtUlkPk0R",
    "collapsed": true
   },
   "outputs": [],
   "source": [
    "trainer = SFTTrainer(\n",
    "    model=peft_model,\n",
    "    args=training_args,\n",
    "    train_dataset=train_eval_dataset[\"train\"],\n",
    "    eval_dataset=train_eval_dataset[\"test\"],\n",
    "    peft_config=lora_config\n",
    ")\n",
    "\n",
    "print(\"Training...\")\n",
    "trainer.train()"
   ]
  },
  {
   "cell_type": "code",
   "execution_count": null,
   "metadata": {
    "id": "weTb4Q0TUgT0"
   },
   "outputs": [],
   "source": [
    "# Salviamo il risultato ottenuto in una cartella (sia modello che relativo tokenizer)\n",
    "finetuned_model_path = f\"{output_dir}/trained_model\"\n",
    "tokenizer.save_pretrained(finetuned_model_path)\n",
    "peft_model.save_pretrained(finetuned_model_path)"
   ]
  },
  {
   "cell_type": "markdown",
   "source": [
    "#### Salvataggio del modello su Hugging Face Hub\n",
    "Hugging Face Hub è una piattaforma cloud che funziona come repository centralizzato per modelli di machine learning, dataset e applicazioni AI. Lo utilizziamo per salvare e condividere il nostro adapter LoRA addestrato, rendendolo facilmente accessibile e riutilizzabile.\n",
    "Il metodo push_to_hub() carica automaticamente il modello sul nostro account Hugging Face, dove potrà essere scaricato e utilizzato da altri o in progetti futuri.\n",
    "#### Requisiti per il login:\n",
    "\n",
    "Un account gratuito su huggingface.co\n",
    "Un token di accesso (ottenibile da Settings → Access Tokens nel tuo profilo)\n",
    "Inserire il token quando richiesto dal comando login()In alternativa possiamo anche utilizzare l'hub di Hugging Face, effettuando il login ed eseguire il push del modello"
   ],
   "metadata": {
    "id": "-PUznZOWdqkZ"
   }
  },
  {
   "cell_type": "code",
   "source": [
    "from huggingface_hub import login\n",
    "login()\n",
    "peft_model.push_to_hub('monadestudio/smol-function-calling-lora-adapter', private=False)"
   ],
   "metadata": {
    "id": "d_uIzDmbci36"
   },
   "execution_count": null,
   "outputs": []
  },
  {
   "cell_type": "markdown",
   "metadata": {
    "id": "CVpPEL9oU1pk"
   },
   "source": [
    "### **Visualizzazione dell'addestramento**\n",
    "\n",
    "Ora possiamo vedere in un grafico come è andato il nostro training!"
   ]
  },
  {
   "cell_type": "markdown",
   "source": [
    "![plot.png](data:image/png;base64,iVBORw0KGgoAAAANSUhEUgAABKUAAAJOCAYAAABm7rQwAAAAOnRFWHRTb2Z0d2FyZQBNYXRwbG90bGliIHZlcnNpb24zLjEwLjAsIGh0dHBzOi8vbWF0cGxvdGxpYi5vcmcvlHJYcgAAAAlwSFlzAAAPYQAAD2EBqD+naQAAqKxJREFUeJzs3XlcVPX+x/H3MGyi4saqYiSaWy6laS6YFuWWNzPLzHIp7WZZec2ueStNu2Xbr2y3uqltlmW0u6VJoVma5lKp5YqaiOSCooLMzO+PE4PINiBw5gyv5+MxD85853vOfAa+kr77fr/H5nK5XAIAAAAAAAAqkZ/ZBQAAAAAAAKDqIZQCAAAAAABApSOUAgAAAAAAQKUjlAIAAAAAAEClI5QCAAAAAABApSOUAgAAAAAAQKUjlAIAAAAAAEClI5QCAAAAAABApSOUAgAAAAAAQKUjlAIAwIuMGDFCsbGxZTr3kUcekc1mK9+CvMyuXbtks9k0Z86cSn9vm82mRx55xP18zpw5stls2rVrV4nnxsbGasSIEeVaz7mMFVhbUlKSbDabkpKSzC4FAIBzQigFAIAHbDabRw/+kWi+e+65RzabTdu2bSuyz4MPPiibzaaNGzdWYmWl9+eff+qRRx7R+vXrzS7FLTcYfOaZZ8wuxSMpKSm64447FBsbq6CgIEVERGjAgAFauXKl2aXlM2LECI9+x5R3uAkAgJn8zS4AAAAreOedd/I9f/vtt/X1118XaG/RosU5vc8bb7whp9NZpnMfeughPfDAA+f0/r5g6NChevHFFzV37lxNnjy50D7vv/++WrdurTZt2pT5fW655RbdeOONCgoKKvM1SvLnn39q6tSpio2NVbt27fK9di5jpapYuXKl+vbtK0kaNWqUWrZsqdTUVM2ZM0fx8fF6/vnndffdd5tcpeGf//ynEhIS3M937typyZMn6/bbb1d8fLy7PS4uTp06ddLJkycVGBhoRqkAAJQbQikAADxw880353v+ww8/6Ouvvy7QfrYTJ04oJCTE4/cJCAgoU32S5O/vL39//tPeqVMnNWnSRO+//36hodSqVau0c+dOPfHEE+f0Pna7XXa7/ZyucS7OZaxUBYcPH9agQYNUrVo1rVy5UnFxce7Xxo8fr169emncuHFq3769unTpUml1nTp1SoGBgfLzy79goXPnzurcubP7+U8//aTJkyerc+fOhf6eCQ4OrvBaAQCoaCzfAwCgnPTo0UMXXnih1q5dq+7duyskJET/+c9/JEmfffaZ+vXrp/r16ysoKEhxcXF69NFH5XA48l3j7H2Czlwq9frrrysuLk5BQUG65JJLtGbNmnznFranlM1m09ixY/Xpp5/qwgsvVFBQkFq1aqVFixYVqD8pKUkdOnRQcHCw4uLi9Nprr3m8T1VycrKuv/56NWrUSEFBQYqJidG//vUvnTx5ssDnq1Gjhvbt26cBAwaoRo0aCg8P14QJEwp8L44cOaIRI0aoVq1aql27toYPH64jR46UWItkzJbasmWL1q1bV+C1uXPnymazaciQIcrOztbkyZPVvn171apVS9WrV1d8fLyWL19e4nsUtqeUy+XSf//7XzVs2FAhISHq2bOnfv311wLnHjp0SBMmTFDr1q1Vo0YNhYaGqk+fPtqwYYO7T1JSki655BJJ0siRI93Lt3L30ypsT6nMzEzdd999iomJUVBQkJo1a6ZnnnlGLpcrX7/SjIuySktL02233abIyEgFBwerbdu2euuttwr0++CDD9S+fXvVrFlToaGhat26tZ5//nn366dPn9bUqVPVtGlTBQcHq169eurWrZu+/vrrYt//tddeU2pqqp5++ul8gZQkVatWTW+99ZZsNpumTZsmyQiBbDZboTUuXrxYNptNX375pbtt3759uvXWWxUZGen+/s2aNSvfebl7P33wwQd66KGH1KBBA4WEhCgjI6Pkb2AxCttTKvf3z8aNG3XZZZcpJCRETZo00fz58yVJ3377rTp16qRq1aqpWbNmWrp0aYHrevKZAAAoT/zvVAAAytFff/2lPn366MYbb9TNN9+syMhISUaAUaNGDY0fP141atTQN998o8mTJysjI0NPP/10idedO3eujh07pn/+85+y2Wx66qmnNHDgQO3YsaPEGTMrVqxQYmKi7rzzTtWsWVMvvPCCrrvuOqWkpKhevXqSpJ9//lm9e/dWdHS0pk6dKofDoWnTpik8PNyjz/3RRx/pxIkTGjNmjOrVq6fVq1frxRdf1N69e/XRRx/l6+twONSrVy916tRJzzzzjJYuXar/+7//U1xcnMaMGSPJCHeuueYarVixQnfccYdatGihTz75RMOHD/eonqFDh2rq1KmaO3euLr744nzv/eGHHyo+Pl6NGjVSenq6/ve//2nIkCEaPXq0jh07pjfffFO9evXS6tWrCyyZK8nkyZP13//+V3379lXfvn21bt06XXXVVcrOzs7Xb8eOHfr00091/fXX6/zzz9eBAwf02muv6bLLLtNvv/2m+vXrq0WLFpo2bVqBJVxFzepxuVz6xz/+oeXLl+u2225Tu3bttHjxYt1///3at2+fnnvuuXz9PRkXZXXy5En16NFD27Zt09ixY3X++efro48+0ogRI3TkyBHde++9kqSvv/5aQ4YM0RVXXKEnn3xSkrR582atXLnS3eeRRx7R9OnTNWrUKHXs2FEZGRn66aeftG7dOl155ZVF1vDFF18oODhYN9xwQ6Gvn3/++erWrZu++eYbnTx5Uh06dFDjxo314YcfFhhn8+bNU506ddSrVy9J0oEDB3TppZe6w73w8HAtXLhQt912mzIyMjRu3Lh85z/66KMKDAzUhAkTlJWVVWHL7g4fPqyrr75aN954o66//nq9+uqruvHGG/Xee+9p3LhxuuOOO3TTTTfp6aef1qBBg7Rnzx7VrFmzTJ8JAIBy4QIAAKV21113uc7+z+hll13mkuSaOXNmgf4nTpwo0PbPf/7TFRIS4jp16pS7bfjw4a7zzjvP/Xznzp0uSa569eq5Dh065G7/7LPPXJJcX3zxhbttypQpBWqS5AoMDHRt27bN3bZhwwaXJNeLL77obuvfv78rJCTEtW/fPnfbH3/84fL39y9wzcIU9vmmT5/ustlsrt27d+f7fJJc06ZNy9f3oosucrVv3979/NNPP3VJcj311FPutpycHFd8fLxLkmv27Nkl1nTJJZe4GjZs6HI4HO62RYsWuSS5XnvtNfc1s7Ky8p13+PBhV2RkpOvWW2/N1y7JNWXKFPfz2bNnuyS5du7c6XK5XK60tDRXYGCgq1+/fi6n0+nu95///MclyTV8+HB326lTp/LV5XIZP+ugoKB835s1a9YU+XnPHiu537P//ve/+foNGjTIZbPZ8o0BT8dFYXLH5NNPP11knxkzZrgkud599113W3Z2tqtz586uGjVquDIyMlwul8t17733ukJDQ105OTlFXqtt27aufv36FVtTYWrXru1q27ZtsX3uuecelyTXxo0bXS6XyzVp0iRXQEBAvj9rWVlZrtq1a+cbD7fddpsrOjralZ6enu96N954o6tWrVruPw/Lly93SXI1bty40D8jxSnuZ5973eXLl7vbcn//zJ071922ZcsWlySXn5+f64cffnC3L168uMC1Pf1MAACUJ5bvAQBQjoKCgjRy5MgC7dWqVXMfHzt2TOnp6YqPj9eJEye0ZcuWEq87ePBg1alTx/08d9bMjh07Sjw3ISEh3/KlNm3aKDQ01H2uw+HQ0qVLNWDAANWvX9/dr0mTJurTp0+J15fyf77MzEylp6erS5cucrlc+vnnnwv0v+OOO/I9j4+Pz/dZFixYIH9/f/fMKcnYw6k0m1LffPPN2rt3r7777jt329y5cxUYGKjrr7/efc3cWStOp1OHDh1STk6OOnToUOjSv+IsXbpU2dnZuvvuu/MteSxshklQUJB7TyGHw6G//vpLNWrUULNmzUr9vrkWLFggu92ue+65J1/7fffdJ5fLpYULF+ZrL2lcnIsFCxYoKipKQ4YMcbcFBATonnvu0fHjx/Xtt99KkmrXrq3MzMxil+LVrl1bv/76q/74449S1XDs2DH3LKCi5L6eu5xu8ODBOn36tBITE919lixZoiNHjmjw4MGSjBlpH3/8sfr37y+Xy6X09HT3o1evXjp69GiBn+Hw4cPz/RmpKDVq1NCNN97oft6sWTPVrl1bLVq0UKdOndztuce5P+uyfCYAAMoDoRQAAOWoQYMGhS7N+fXXX3XttdeqVq1aCg0NVXh4uHvz4qNHj5Z43UaNGuV7nhtQHT58uNTn5p6fe25aWppOnjypJk2aFOhXWFthUlJSNGLECNWtW9e9T9Rll10mqeDnCw4OLrAs8Mx6JGn37t2Kjo5WjRo18vVr1qyZR/VI0o033ii73a65c+dKMjaY/uSTT9SnT598Ad9bb72lNm3auPcrCg8P11dffeXRz+VMu3fvliQ1bdo0X3t4eHi+95OMAOy5555T06ZNFRQUpLCwMIWHh2vjxo2lft8z379+/foFgpjcO0Lm1perpHFxLnbv3q2mTZsW2Mz77FruvPNOXXDBBerTp48aNmyoW2+9tcC+VtOmTdORI0d0wQUXqHXr1rr//vu1cePGEmuoWbOmjh07Vmyf3Ndzv2dt27ZV8+bNNW/ePHefefPmKSwsTJdffrkk6eDBgzpy5Ihef/11hYeH53vkBtJpaWn53uf8888vsd7y0LBhwwJ7wNWqVUsxMTEF2qS83x9l+UwAAJQH9pQCAKAcFTYb4siRI7rssssUGhqqadOmKS4uTsHBwVq3bp0mTpwop9NZ4nWLusub66wNrMv7XE84HA5deeWVOnTokCZOnKjmzZurevXq2rdvn0aMGFHg81XWHesiIiJ05ZVX6uOPP9bLL7+sL774QseOHdPQoUPdfd59912NGDFCAwYM0P3336+IiAjZ7XZNnz5d27dvr7DaHn/8cT388MO69dZb9eijj6pu3bry8/PTuHHjPBoP5aGix4UnIiIitH79ei1evFgLFy7UwoULNXv2bA0bNsy94Xj37t21fft2ffbZZ1qyZIn+97//6bnnntPMmTM1atSoIq/dokUL/fzzz8rKylJQUFChfTZu3KiAgIB8QeLgwYP12GOPKT09XTVr1tTnn3+uIUOGuO9smfvzufnmm4vc46xNmzb5nlfGLCmp6J9pST/rsnwmAADKA6EUAAAVLCkpSX/99ZcSExPVvXt3d/vOnTtNrCpPRESEgoODtW3btgKvFdZ2tk2bNun333/XW2+9pWHDhrnbS7o7WnHOO+88LVu2TMePH883W2rr1q2lus7QoUO1aNEiLVy4UHPnzlVoaKj69+/vfn3+/Plq3LixEhMT880wmTJlSplqlqQ//vhDjRs3drcfPHiwwOyj+fPnq2fPnnrzzTfztR85ckRhYWHu557c+fDM91+6dGmBZWu5y0Nz66sM5513njZu3Cin05lvtlRhtQQGBqp///7q37+/nE6n7rzzTr322mt6+OGH3TP16tatq5EjR2rkyJE6fvy4unfvrkceeaTYUOrqq6/WqlWr9NFHH7lnJZ5p165dSk5OVkJCQr7QaPDgwZo6dao+/vhjRUZGKiMjI9+SuPDwcNWsWVMOh0MJCQll/yZ5EV/8TAAAa2D5HgAAFSx3lsKZM1Cys7P1yiuvmFVSPna7XQkJCfr000/1559/utu3bdtWYB+ios6X8n8+l8ul559/vsw19e3bVzk5OXr11VfdbQ6HQy+++GKprjNgwACFhITolVde0cKFCzVw4EAFBwcXW/uPP/6oVatWlbrmhIQEBQQE6MUXX8x3vRkzZhToa7fbC8xI+uijj7Rv3758bdWrV5dkhFUl6du3rxwOh1566aV87c8995xsNpvH+4OVh759+yo1NTXfMricnBy9+OKLqlGjhntp519//ZXvPD8/P/eMnKysrEL71KhRQ02aNHG/XpR//vOfioiI0P33319gn6xTp05p5MiRcrlcmjx5cr7XWrRoodatW2vevHmaN2+eoqOj84XJdrtd1113nT7++GP98ssvBd734MGDxdbljXzxMwEArIGZUgAAVLAuXbqoTp06Gj58uO655x7ZbDa98847lbpMqiSPPPKIlixZoq5du2rMmDHucOPCCy/U+vXriz23efPmiouL04QJE7Rv3z6Fhobq448/Pqe9ifr376+uXbvqgQce0K5du9SyZUslJiaWer+lGjVqaMCAAe59pc5cuicZs2kSExN17bXXql+/ftq5c6dmzpypli1b6vjx46V6r/DwcE2YMEHTp0/X1Vdfrb59++rnn3/WwoUL881+yn3fadOmaeTIkerSpYs2bdqk9957L98MK0mKi4tT7dq1NXPmTNWsWVPVq1dXp06dCt2jqH///urZs6cefPBB7dq1S23bttWSJUv02Wefady4cfk2NS8Py5Yt06lTpwq0DxgwQLfffrtee+01jRgxQmvXrlVsbKzmz5+vlStXasaMGe6ZXKNGjdKhQ4d0+eWXq2HDhtq9e7defPFFtWvXzr3/VMuWLdWjRw+1b99edevW1U8//aT58+dr7NixxdZXr149zZ8/X/369dPFF1+sUaNGqWXLlkpNTdWcOXO0bds2Pf/88+rSpUuBcwcPHqzJkycrODhYt912W4G9sZ544gktX75cnTp10ujRo9WyZUsdOnRI69at09KlS3Xo0KGyfltN44ufCQDg/QilAACoYPXq1dOXX36p++67Tw899JDq1Kmjm2++WVdccYV69epldnmSpPbt22vhwoWaMGGCHn74YcXExGjatGnavHlziXcHDAgI0BdffKF77rlH06dPV3BwsK699lqNHTtWbdu2LVM9fn5++vzzzzVu3Di9++67stls+sc//qH/+7//00UXXVSqaw0dOlRz585VdHS0e7PqXCNGjFBqaqpee+01LV68WC1bttS7776rjz76SElJSaWu+7///a+Cg4M1c+ZM9z/wlyxZon79+uXr95///EeZmZmaO3eu5s2bp4svvlhfffWVHnjggXz9AgIC9NZbb2nSpEm64447lJOTo9mzZxcaSuV+zyZPnqx58+Zp9uzZio2N1dNPP6377ruv1J+lJIsWLSqwKbkkxcbG6sILL1RSUpIeeOABvfXWW8rIyFCzZs00e/ZsjRgxwt335ptv1uuvv65XXnlFR44cUVRUlAYPHqxHHnnEHQTdc889+vzzz7VkyRJlZWXpvPPO03//+1/df//9JdYYHx+vjRs36vHHH9dHH32k/fv3q1atWurSpYtmzZqlbt26FXre4MGD9dBDD+nEiRPuu+6dKTIyUqtXr9a0adOUmJioV155RfXq1VOrVq305JNPevgd9C6++JkAAN7P5vKm/00LAAC8yoABA/Trr7/qjz/+MLsUAAAA+Bj2lAIAAJKkkydP5nv+xx9/aMGCBerRo4c5BQEAAMCnMVMKAABIkqKjozVixAg1btxYu3fv1quvvqqsrCz9/PPPatq0qdnlAQAAwMewpxQAAJAk9e7dW++//75SU1MVFBSkzp076/HHHyeQAgAAQIVgphQAAAAAAAAqHXtKAQAAAAAAoNIRSgEAAAAAAKDSVbk9pZxOp/7880/VrFlTNpvN7HIAAAAAAAB8isvl0rFjx1S/fn35+RU9H6rKhVJ//vmnYmJizC4DAAAAAADAp+3Zs0cNGzYs8vUqF0rVrFlTkvGNCQ0NNa0Op9OpgwcPKjw8vNjUEPAGjFdYDWMWVsJ4hZUwXmE1jFlYiS+N14yMDMXExLgzmKJUuVAqd8leaGio6aHUqVOnFBoaavnBBt/HeIXVMGZhJYxXWAnjFVbDmIWV+OJ4LWnbJN/4lAAAAAAAALAUQikAAAAAAABUOkIpAAAAAAAAVLoqt6cUAAAAAABVhdPpVHZ2ttllwANOp1OnT5/WqVOnvH5PqYCAANnt9nO+DqEUAAAAAAA+KDs7Wzt37pTT6TS7FHjA5XLJ6XTq2LFjJW4Q7g1q166tqKioc6qVUAoAAAAAAB/jcrm0f/9+2e12xcTEeP3MGxg/s5ycHPn7+3t1KOVyuXTixAmlpaVJkqKjo8t8LUIpAAAAAAB8TE5Ojk6cOKH69esrJCTE7HLgAauEUpJUrVo1SVJaWpoiIiLKvJSPqBQAAAAAAB/jcDgkSYGBgSZXAl+VG3aePn26zNcglAIAAAAAwEd5+4wbWFd5jC1CKQAAAAAAAFQ6QikAAAAAAOCzYmNjNWPGDI/7JyUlyWaz6ciRIxVWEwyEUgAAAAAAoFAOh5SUJL3/vvH1762qKoTNZiv28cgjj5TpumvWrNHtt9/ucf8uXbpo//79qlWrVpnez1OEX9x9DwAAAAAAFCIxUbr3Xmnv3ry2hg2l55+XBg4s//fbv3+/+3jevHmaPHmytm7d6m6rUaOG+9jlcsnhcMjfv+RYIzw8vFR1BAYGKioqqlTnoGyYKQUAAAAAAPJJTJQGDcofSEnSvn1Ge2Ji+b9nVFSU+1GrVi3ZbDb38y1btqhmzZpauHCh2rdvr6CgIK1YsULbt2/XNddco8jISNWoUUOXXHKJli5dmu+6Zy/fs9ls+t///qdrr71WISEhatq0qT7//HP362fPYJozZ45q166txYsXq0WLFqpRo4Z69+6dL0TLycnRPffco9q1a6tevXqaOHGihg8frgEDBpT5+3H48GENGzZMderUUUhIiPr06aM//vjD/fru3bvVv39/1alTR9WrV1erVq20YMEC97lDhw5VeHi4qlWrpqZNm2r27NllrqWiEEoBAAAAAAA3h8OYIeVyFXwtt23cuIpdyleUBx54QE888YQ2b96sNm3a6Pjx4+rbt6+WLVumn3/+Wb1791b//v2VkpJS7HWmTp2qG264QRs3blTfvn01dOhQHTp0qMj+J06c0DPPPKN33nlH3333nVJSUjRhwgT3608++aTee+89zZ49WytXrlRGRoY+/fTTc/qsI0aM0E8//aTPP/9cq1atksvlUt++fXX69GlJ0l133aWsrCx999132rRpk5588kn3bLKHH35Yv/32mxYuXKjNmzfr1VdfVVhY2DnVUxFYvmdRDoeUnCzt3y9FR0vx8ZLdbnZVAAAAAABv1aGDlJpacr+sLCk9vejXXS5pzx4pKkoKCir5elFR0k8/eV5ncaZNm6Yrr7zS/bxu3bpq27at+/mjjz6qTz75RJ9//rnGjh1b5HVGjBihIUOGSJIef/xxvfDCC1q9erV69+5daP/Tp09r5syZiouLkySNHTtW06ZNc7/+4osvatKkSbr22mslSS+99JJ71lJZ/PHHH/r888+1cuVKdenSRZL03nvvKSYmRp9++qmuv/56paSk6LrrrlPr1q0lSY0bN3afn5KSoosuukgdOnSQZMwW80aEUhZU2et6AQAAAADWl5pqLL8rL8UFVxUlN2TJdfz4cT3yyCP66quvtH//fuXk5OjkyZMlzpRq06aN+7h69eoKDQ1VWlpakf1DQkLcgZQkRUdHu/sfPXpUBw4cUMeOHd2v2+12tW/fXk6ns1SfL9fmzZvl7++vTp06udvq1aunZs2aafPmzZKke+65R2PGjNGSJUuUkJCg6667zv25xowZo+uuu07r1q3TVVddpQEDBrjDLW/C8j2LMWNdLwAAAADA+qKipAYNSn54usorLMyz65XnnuHVq1fP93zChAn65JNP9Pjjjys5OVnr169X69atlZ2dXex1AgIC8j232WzFBkiF9XcVtr6xEo0aNUo7duzQLbfcok2bNqlDhw568cUXJUl9+vTR7t279a9//Ut//vmnrrjiinzLDb0FoZSFePO6XgAAAACAd/vpJ2OCQ0mP1FRjNY7NVvh1bDYpJsbo58n1ymvpXmFWrlypESNG6Nprr1Xr1q0VFRWlXbt2VdwbFqJWrVqKjIzUmjVr3G0Oh0Pr1q0r8zVbtGihnJwc/fjjj+62v/76S1u3blXLli3dbTExMbrjjjuUmJio++67T2+88Yb7tfDwcA0fPlzvvvuuZsyYoddff73M9VQUlu9ZSHJywRlSZ8pd15ucLPXoUWllAQAAAAB8iN1ubA8zaJARQJ05MSI3qJoxwzv2NW7atKkSExPVv39/2Ww2Pfzww2VeMncu7r77bk2fPl1NmjRR8+bN9eKLL+rw4cOyFZXsnWHTpk2qWbOmXC6XcnJyFBAQoHbt2umaa67R6NGj9dprr6lmzZp64IEH1KBBA11zzTWSpHHjxqlPnz664IILdPjwYS1fvlwtWrSQJE2ePFnt27dXq1atlJWVpS+//NL9mjchlLKQM+42WS79AAAAAAAozMCB0vz5he9nPGOG9+xn/Oyzz+rWW29Vly5dFBYWpokTJyojI6PS65g4caJSU1M1bNgw2e123X777erVq5fsHiR33bt3z/fcbrcrJydHs2fP1r333qurr75a2dnZ6t69uxYsWOBeSuhwOHTXXXdp7969Cg0NVe/evfXcc89JkgIDAzVp0iTt2rVL1apVU3x8vD744IPy/+DnyOYyexFkJcvIyFCtWrV09OhRhYaGmlaH0+lUWlqaIiIi5Ofn2SrKpCSpZ8+S+y1fzkwplK+yjFfATIxZWAnjFVbCeIXVVOUxe+rUKe3cuVPnn3++goODy3wd7vxeNk6nUy1atNANN9ygRx991KNzcmdK+fv7ezTDymzFjTFPsxdmSllIfLyRSu/bV/i+Ujab8Xp8fOXXBgAAAADwPXY7kx48sXv3bi1ZskSXXXaZsrKy9NJLL2nnzp266aabzC7Nq1WtqNjictf1SkVvOOct63oBAAAAAKgq/Pz8NGfOHF1yySXq2rWrNm3apKVLl3rlPk7ehJlSFlPUut4aNaS33vKedb0AAAAAAFQVMTExWrlypdllWA4zpSxo4EBp1y7pq6/yZkyddx6BFAAAAAAAsA5CKYuy26W+faX27Y3nv/4q/fWXuTUBAAAAAAB4ilDK4s68c+SKFebVAQAAAAAAUBqEUhZ3Zij13Xfm1QEAAAAAAFAahFIW161b3jGhFAAAAAAAsApCKYurV0+68ELj+OefpWPHzK0HAAAAAADAE4RSPiB3CZ/DIa1aZW4tAAAAAACYqUePHho3bpz7eWxsrGbMmFHsOTabTZ9++uk5v3d5XaeqIJTyAewrBQAAAAAoVykp0rp1RT9SUsr9Lfv376/evXsX+lpycrJsNps2btxY6uuuWbNGt99++7mWl88jjzyidu3aFWjfv3+/+vTpU67vdbY5c+aodu3aFfoelcXf7AJw7uLj844JpQAAAAAA5yQlRWrWTDp1qug+wcHS1q1So0bl9ra33XabrrvuOu3du1cNGzbM99rs2bPVoUMHtWnTptTXDQ8PL68SSxQVFVVp7+ULmCnlA+rXl+LijOMffyz+9wYAAAAAAMVKTy/5H5anThn9ytHVV1+t8PBwzZkzJ1/78ePH9dFHH+m2227TX3/9pSFDhqhBgwYKCQlR69at9f777xd73bOX7/3xxx/q3r27goOD1bJlS3399dcFzpk4caIuuOAChYSEqHHjxnr44Yd1+vRpScZMpalTp2rDhg2y2Wyy2Wzums9evrdp0yZdfvnlqlatmurVq6fbb79dx48fd78+YsQIDRgwQM8884zq16+vqKgo3XXXXe73KouUlBRdc801qlGjhkJDQ3XDDTfowIED7tc3bNignj17qmbNmgoNDVX79u31008/SZJ2796t/v37q06dOqpevbpatWqlBQsWlLmWkjBTykd07y5t3y5lZ0urV+df0gcAAAAAgLfz9/fXsGHDNGfOHD344IOy2WySpI8++kgOh0NDhgzR8ePH1b59e02cOFGhoaH66quvdMsttyguLk4dO3Ys8T2cTqcGDhyoyMhI/fjjjzp69Gi+/ady1axZU3PmzFH9+vW1adMmjR49WjVr1tS///1vDR48WL/88osWLVqkpUuXSpJq1apV4BqZmZnq1auXOnfurDVr1igtLU2jRo3S2LFj8wVvy5cvV3R0tL755htt3bpVQ4cO1UUXXaTRo0eX+nvodDrdgdS3336rnJwc3XXXXRo8eLCSkpIkyX39V199VXa7XevXr1dAQIAk6a677lJ2dra+++47Va9eXb/99ptq1KhR6jo8RSjlI7p3l2bPNo6/+45QCgAAAABwlg4dpNTUkvtlZ3t2vd69pcDAkvtFRUl/z8Qpya233qqnn35a3377rXr06CHJWLp33XXXqVatWqpVq5YmTJjg7n/33Xdr8eLF+vDDDz0KpZYuXaotW7Zo8eLFql+/viTp8ccfL7AP1EMPPeQ+jo2N1YQJE/TBBx/o3//+t6pVq6YaNWrI39+/2OV6c+fO1alTp/T222+revXqkqSXXnpJ/fv315NPPqnIyEhJUp06dfTSSy/Jz89PTZo0Ub9+/bRs2bIyhVLLli3Tpk2btHPnTsXExEiS3n77bbVq1Upr1qzRJZdcopSUFN1///1q3ry5JKlp06bu81NSUnTdddepdevWkqTGjRuXuobSIJTyEWx2DgAAAAAoVmqqtG9f+V3v4MHyu9bfmjdvri5dumjWrFnq0aOHtm3bpuTkZE2bNk2S5HA49Pjjj+vDDz/Uvn37lJ2draysLIWEhHh0/c2bNysmJsYdSElS586dC/SbN2+eXnjhBW3fvl3Hjx9XTk6OQkNDS/VZNm/erLZt27oDKUnq2rWrnE6ntm7d6g6lWrVqJbvdLpfLJcnYl+qXX34p1Xud+Z4xMTHuQEqSWrZsqdq1a2vz5s265JJLNH78eI0aNUrvvPOOEhISdP311yvu7z2B7rnnHo0ZM0ZLlixRQkKCrrvuujLt4+Up9pTyEeefLzVoYBx//710DstPAQAAAAC+KCrK+IdjSQ9PNwYPD/fseqXc/Pu2227Txx9/rGPHjmn27NmKi4vTZZddJkl6+umn9fzzz2vixIlavny51q9fr169einb09ldHli1apWGDh2qvn376ssvv9TPP/+sBx98sFzf40y5S+dy2Ww2OZ3OCnkvybhz4K+//qp+/frpm2++UcuWLfXJJ59IkkaNGqUdO3bolltu0aZNm9ShQwe9+OKLFVYLoZSPsNnyZktlZko//2xuPQAAAAAAL/PTT9LevSU/Fi3y7HqLFnl2PQ+X7uW64YYb5Ofnp7lz5+rtt9/Wrbfe6t5fauXKlbrmmmt08803q23btmrcuLF+//13j6/dokUL7dmzR/v373e3/fDDD/n6fP/99zrvvPP04IMPqkOHDmratKl2796dr09gYKAcDkeJ77VhwwZlZma621auXCk/Pz81a9bM45pLI/fz7dmzx93222+/6ciRI2rZsqW77YILLtC//vUvLVmyRAMHDtTs3P2AJMXExOiOO+5QYmKi7rvvPr3xxhsVUqtEKOVTWMIHAAAAALC6GjVqaPDgwZo0aZL279+vESNGuF9r2rSpvv76a33//ffavHmz/vnPf+a7s1xJEhISdMEFF2j48OHasGGDkpOT9eCDD+br07RpU6WkpOiDDz7Q9u3b9cILL7hnEuWKjY3Vzp07tX79eqWnpysrK6vAew0dOlTBwcEaPny4fvnlFy1fvlx33323brnlFvfSvbJyOBxav359vsfmzZuVkJCg1q1ba+jQoVq3bp1Wr16tYcOG6bLLLlOHDh108uRJjR07VklJSdq9e7dWrlypNWvWqEWLFpKkcePGafHixdq5c6fWrVun5cuXu1+rCIRSPoRQCgAAAABwzsLCpODg4vsEBxv9Kshtt92mw4cPq1evXvn2f3rooYd08cUXq1evXurRo4eioqI0YMAAj6/r5+enTz75RCdPnlTHjh01atQoPfbYY/n6/OMf/9C//vUvjR07Vu3atdP333+vhx9+OF+f6667Tr1791bPnj0VHh6u999/v8B7hYSEaPHixTp06JAuueQSDRo0SFdccYVeeuml0n0zCnH8+HFddNFF+R79+/eXzWbTZ599pjp16qh79+5KSEhQ48aNNW/ePEmS3W7XX3/9pWHDhumCCy7QDTfcoD59+mjq1KmSjLDrrrvuUosWLdS7d29dcMEFeuWVV8653qLYXLk7aVURGRkZqlWrlo4ePVrqTcrKk9PpVFpamiIiIuTnVz7ZoMslRURI6elSnTrG13K6NKq4ihivQEVizMJKGK+wEsYrrKYqj9lTp05p586dOv/88xVcUsBUmJQU4x+VRQkLkxo1KnuBKMDlciknJ0f+/v7u5YrerLgx5mn2YvqfypdfflmxsbEKDg5Wp06dtHr16mL7z5gxQ82aNVO1atUUExOjf/3rXzp16lQlVevdbDYpPt44PnxY+vVXc+sBAAAAAFhUo0bSxRcX/SCQQjkwNZSaN2+exo8frylTpmjdunVq27atevXqpbS0tEL7z507Vw888ICmTJmizZs3680339S8efP0n//8p5Ir9165oZTEEj4AAAAAAOC9TA2lnn32WY0ePVojR45Uy5YtNXPmTIWEhGjWrFmF9v/+++/VtWtX3XTTTYqNjdVVV12lIUOGlDi7qiphXykAAAAAAGAFpoVS2dnZWrt2rRISEvKK8fNTQkKCVq1aVeg5Xbp00dq1a90h1I4dO7RgwQL17du3Umq2grZtpZo1jePvvjP2mQIAAAAAAPA2/ma9cXp6uhwOR4HbIEZGRmrLli2FnnPTTTcpPT1d3bp1c28AdscddxS7fC8rKyvfrRkzMjIkGRveOZ3OcvgkZeN0OuVyucq9Bj8/qUsXmxYvtik1Vfr9d6eaNi3Xt0AVVFHjFagojFlYCeMVVsJ4hdVU5TGb+9lzH7CG3J+VFX5muWOrsHzF0z9zpoVSZZGUlKTHH39cr7zyijp16qRt27bp3nvv1aOPPlrg9oy5pk+f7r614ZkOHjxo6gbpTqdTR48elcvlKve7QFx8cXUtXmxMl/rqq2O66aaT5Xp9VD0VOV6BisCYhZUwXmEljFdYTVUes6dPn5bT6dTp06fl72+pf/pXWS6XSw6HQ5Iscfe93DF26NChAmPs2LFjHl3DtJEZFhYmu92uAwcO5Gs/cOCAoqKiCj3n4Ycf1i233KJRo0ZJklq3bq3MzEzdfvvtevDBBwv9JTNp0iSNHz/e/TwjI0MxMTEKDw8v9raEFc3pdMpmsyk8PLzcfzn26SNNn24cr18fqnHjapbr9VH1VOR4BSoCYxZWwniFlTBeYTVVecw6HA5lZmbqyJEj8vf3t0TIASPo8XYul0unT59WWlqa/P39FRUVVeDPV3BwsEfXMi2UCgwMVPv27bVs2TINGDBAkvELY9myZRo7dmyh55w4caLAB7Xb7ZKKntoWFBSkoKCgAu1+fn6m/1Ky2WwVUkfHjlJwsHTqlJScbJOfH798cO4qarwCFYUxCythvMJKGK+wmqo6Zv38/NSwYUPt3btXu3fvNrsceCB3KZyfn58lQsSQkBBFR0cXOhPP0z9vps7hGz9+vIYPH64OHTqoY8eOmjFjhjIzMzVy5EhJ0rBhw9SgQQNN/3vaT//+/fXss8/qoosuci/fe/jhh9W/f393OAUpKEi69FIpKUnatUtKSZEaNTK7KgAAAABAZapRo4aaNm1qidk3MCbq/PXXX6pXr57Xh6h2u71cZuCZGkoNHjxYBw8e1OTJk5Wamqp27dpp0aJF7s3PU1JS8v0gHnroIdlsNj300EPat2+fwsPD1b9/fz322GNmfQSv1b27EUpJUnKyNHSoqeUAAAAAAExgt9uZxGERTqdTAQEBCg4O9vpQqryYvtvZ2LFji1yul5SbqvzN399fU6ZM0ZQpUyqhMmvr3j3vmFAKAAAAAAB4m6oRvVVBl14q5S7r/O47c2sBAAAAAAA4G6GUj6peXerQwTjevFlKSzO3HgAAAAAAgDMRSvmw+Pi84xUrzKsDAAAAAADgbIRSPuzMfaVYwgcAAAAAALwJoZQP69pVyr07I6EUAAAAAADwJoRSPqxOHalNG+N4/Xrp6FFTywEAAAAAAHAjlPJxuUv4XC5p5UpzawEAAAAAAMhFKOXj2FcKAAAAAAB4I0IpH3fmHfgIpQAAAAAAgLcglPJxkZFSs2bG8Zo10okT5tYDAAAAAAAgEUpVCblL+HJypB9+MLcWAAAAAAAAiVCqSjhzX6nkZPPqAAAAAAAAyEUoVQWw2TkAAAAAAPA2hFJVQKNGxkOSVq2SsrPNrQcAAAAAAIBQqorInS118qS0dq25tQAAAAAAABBKVREs4QMAAAAAAN6EUKqKIJQCAAAAAADehFCqirjgAikiwjhesUJyOMytBwAAAAAAVG2EUlWEzZY3WyojQ9q40dx6AAAAAABA1UYoVYWwhA8AAAAAAHgLQqkqhFAKAAAAAAB4C0KpKuTCC6XatY3j776TXC5TywEAAAAAAFUYoVQVYrdL3boZx+np0pYt5tYDAAAAAACqLkKpKubMJXzJyebVAQAAAAAAqjZCqSqGfaUAAAAAAIA3IJSqYi6+WAoJMY6//ZZ9pQAAAAAAgDkIpaqYgACpc2fjeO9eafduc+sBAAAAAABVE6FUFcQSPgAAAAAAYDZCqSqIUAoAAAAAAJiNUKoK6tTJWMYnEUoBAAAAAABzEEpVQdWqSR07Gsd//CHt329uPQAAAAAAoOohlKqizlzCl5xsXh0AAAAAAKBqIpSqothXCgAAAAAAmIlQqorq0kWy2Yzjzz+XkpIkh8PUkgAAAAAAQBVCKFVFLV0q+fsbx3v2SD17SrGxUmKiqWUBAAAAAIAqglCqCkpMlAYNkk6fzt++b5/RTjAFAAAAAAAqGqFUFeNwSPfeK7lcBV/LbRs3jqV8AAAAAACgYhFKVTHJydLevUW/7nIZy/m4Ix8AAAAAAKhIhFJVzP795dsPAAAAAACgLAilqpjo6PLtBwAAAAAAUBaEUlVMfLzUsKFksxX+us0mxcQY/QAAAAAAACoKoVQVY7dLzz9vHBcVTM2YYfQDAAAAAACoKIRSVdDAgdL8+VKDBvnbq1Uz2gcONKcuAAAAAABQdRBKVVEDB0q7dknLlklBQUZbRASBFAAAAAAAqByEUlWY3S5dfrl08cXG8927paNHza0JAAAAAABUDYRSUNu2eccbN5pXBwAAAAAAqDoIpZAvlNqwwbw6AAAAAABA1UEoBWZKAQAAAACASkcoBV14Yd4xM6UAAAAAAEBl8IpQ6uWXX1ZsbKyCg4PVqVMnrV69usi+PXr0kM1mK/Do169fJVbsW2rWlOLijONNmySHw9x6AAAAAACA7zM9lJo3b57Gjx+vKVOmaN26dWrbtq169eqltLS0QvsnJiZq//797scvv/wiu92u66+/vpIr9y25S/hOnpS2bTO3FgAAAAAA4PtMD6WeffZZjR49WiNHjlTLli01c+ZMhYSEaNasWYX2r1u3rqKiotyPr7/+WiEhIYRS54jNzgEAAAAAQGXyN/PNs7OztXbtWk2aNMnd5ufnp4SEBK1atcqja7z55pu68cYbVb169UJfz8rKUlZWlvt5RkaGJMnpdMrpdJ5D9efG6XTK5XKZWsOZWreWcjPK9etdGjTIZWo98C7eNl6BkjBmYSWMV1gJ4xVWw5iFlfjSePX0M5gaSqWnp8vhcCgyMjJfe2RkpLZs2VLi+atXr9Yvv/yiN998s8g+06dP19SpUwu0Hzx4UKdOnSp90eXE6XTq6NGjcrlc8vMzfcKaGja0SwqXJK1Zk6W0tCOm1gPv4m3jFSgJYxZWwniFlTBeYTWMWViJL43XY8eOedTP1FDqXL355ptq3bq1OnbsWGSfSZMmafz48e7nGRkZiomJUXh4uEJDQyujzEI5nU7ZbDaFh4d7xWALD5dCQ13KyLBpy5YgRUREmF0SvIi3jVegJIxZWAnjFVbCeIXVMGZhJb40XoODgz3qZ2ooFRYWJrvdrgMHDuRrP3DggKKiooo9NzMzUx988IGmTZtWbL+goCAFBQUVaPfz8zP9h2yz2byijlxt2kgrVkh799p05IhNdeuaXRG8ibeNV6AkjFlYCeMVVsJ4hdUwZmElvjJePa3f1E8ZGBio9u3ba9myZe42p9OpZcuWqXPnzsWe+9FHHykrK0s333xzRZdZZZy52fnGjebVAQAAAAAAfJ/p0dv48eP1xhtv6K233tLmzZs1ZswYZWZmauTIkZKkYcOG5dsIPdebb76pAQMGqF69epVdss/iDnwAAAAAAKCymL6n1ODBg3Xw4EFNnjxZqampateunRYtWuTe/DwlJaXAtK+tW7dqxYoVWrJkiRkl+yxCKQAAAAAAUFlMD6UkaezYsRo7dmyhryUlJRVoa9asmVwuVwVXVfVceKHk5yc5nYRSAAAAAACgYpm+fA/eIyREatrUOP71Vyknx9x6AAAAAACA7yKUQj65S/iysqStW82tBQAAAAAA+C5CKeTTpk3eMXfgAwAAAAAAFYVQCvmw2TkAAAAAAKgMhFLIh1AKAAAAAABUBkIp5NOwoVSnjnFMKAUAAAAAACoKoRTysdnyZkvt3y8dPGhuPQAAAAAAwDcRSqEAlvABAAAAAICKRiiFAgilAAAAAABARSOUQgFt2uQdb9xoXh0AAAAAAMB3EUqhgFatJLvdOGamFAAAAAAAqAiEUiggOFhq1sw4/u03KTvb3HoAAAAAAIDvIZRCoXL3lTp9WtqyxdxaAAAAAACA7yGUQqHY7BwAAAAAAFQkQikUilAKAAAAAABUJEIpFIpQCgAAAAAAVCRCKRQqKkoKDzeON2yQXC5z6wEAAAAAAL6FUAqFstmkNm2M44MHpQMHzK0HAAAAAAD4FkIpFIklfAAAAAAAoKIQSqFIhFIAAAAAAKCiEEqhSIRSAAAAAACgohBKoUgtWkgBAcYxoRQAAAAAAChPhFIoUmCgEUxJ0pYt0qlT5tYDAAAAAAB8B6EUipW7hM/hkH77zdxaAAAAAACA7yCUQrHatMk73rjRvDoAAAAAAIBvIZRCsdjsHAAAAAAAVARCKRSLUAoAAAAAAFQEQikUKyJCiooyjjdskFwuc+sBAAAAAAC+gVAKJcqdLXXokLRvn7m1AAAAAAAA30AohRKxhA8AAAAAAJQ3QimUiFAKAAAAAACUN0IplKhNm7zjjRvNqwMAAAAAAPgOQimUqFkzKTDQOGamFAAAAAAAKA+EUihRQIDUqpVx/Pvv0smT5tYDAAAAAACsj1AKHsndV8rplH75xdxaAAAAAACA9RFKwSNsdg4AAAAAAMoToRQ8QigFAAAAAADKE6EUPEIoBQAAAAAAyhOhFDxSt67UsKFxvHGj5HKZWw8AAAAAALA2Qil4rE0b4+vRo1JKirm1AAAAAAAAayOUgsdYwgcAAAAAAMoLoRQ8RigFAAAAAADKC6EUPEYoBQAAAAAAyguhFDzWtKlUrZpxTCgFAAAAAADOBaEUPGa3SxdeaBxv3y4dP25uPQAAAAAAwLoIpVAquUv4XC5p0yZzawEAAAAAANZFKIVSadMm73jjRvPqAAAAAAAA1kYohVJhs3MAAAAAAFAeCKVQKmfOlCKUAgAAAAAAZWV6KPXyyy8rNjZWwcHB6tSpk1avXl1s/yNHjuiuu+5SdHS0goKCdMEFF2jBggWVVC1q15bOO8843rhRcjpNLQcAAAAAAFiUqaHUvHnzNH78eE2ZMkXr1q1T27Zt1atXL6WlpRXaPzs7W1deeaV27dql+fPna+vWrXrjjTfUoEGDSq68astdwnf8uLRzp7m1AAAAAAAAazI1lHr22Wc1evRojRw5Ui1bttTMmTMVEhKiWbNmFdp/1qxZOnTokD799FN17dpVsbGxuuyyy9T2zI2OUOHYVwoAAAAAAJwrf7PeODs7W2vXrtWkSZPcbX5+fkpISNCqVasKPefzzz9X586dddddd+mzzz5TeHi4brrpJk2cOFF2u73Qc7KyspSVleV+npGRIUlyOp1ymrj2zOl0yuVymVpDWbVuLeXmmevXuzRggMvUelDxrDxeUTUxZmEljFdYCeMVVsOYhZX40nj19DOYFkqlp6fL4XAoMjIyX3tkZKS2bNlS6Dk7duzQN998o6FDh2rBggXatm2b7rzzTp0+fVpTpkwp9Jzp06dr6tSpBdoPHjyoU6dOnfsHKSOn06mjR4/K5XLJz8/0rb1KpUEDu6RwSdLq1VlKSztiaj2oeFYer6iaGLOwEsYrrITxCqthzMJKfGm8Hjt2zKN+poVSZeF0OhUREaHXX39ddrtd7du31759+/T0008XGUpNmjRJ48ePdz/PyMhQTEyMwsPDFRoaWlmlF+B0OmWz2RQeHm65wRYWJlWv7lJmpk2//x6kiIgIs0tCBbPyeEXVxJiFlTBeYSWMV1gNYxZW4kvjNTg42KN+poVSYWFhstvtOnDgQL72AwcOKCoqqtBzoqOjFRAQkG+pXosWLZSamqrs7GwFBgYWOCcoKEhBQUEF2v38/Ez/IdtsNq+oo7T8/IwlfD/8IO3cadPx4zaZmO+hklh1vKLqYszCShivsBLGK6yGMQsr8ZXx6mn9pn3KwMBAtW/fXsuWLXO3OZ1OLVu2TJ07dy70nK5du2rbtm351ib+/vvvio6OLjSQQsU5c7PzjRvNqwMAAAAAAFiTqdHb+PHj9cYbb+itt97S5s2bNWbMGGVmZmrkyJGSpGHDhuXbCH3MmDE6dOiQ7r33Xv3+++/66quv9Pjjj+uuu+4y6yNUWdyBDwAAAAAAnAtT95QaPHiwDh48qMmTJys1NVXt2rXTokWL3Jufp6Sk5JvyFRMTo8WLF+tf//qX2rRpowYNGujee+/VxIkTzfoIVRahFAAAAAAAOBemb3Q+duxYjR07ttDXkpKSCrR17txZP/zwQwVXhZK0bp13TCgFAAAAAABKy9o7Z8E0NWtKcXHG8aZNksNhbj0AAAAAAMBaCKVQZm3aGF9PnpS2bze3FgAAAAAAYC2EUigz9pUCAAAAAABlRSiFMiOUAgAAAAAAZUUohTIjlAIAAAAAAGVFKIUyi42VQkONY0IpAAAAAABQGoRSKDObLW+z8z17pEOHzK0HAAAAAABYB6EUzsmZS/iee05KSpIcDtPKAQAAAAAAFkEohXOSk5N3/N//Sj17Gsv6EhNNKwkAAAAAAFgAoRTKLDFReu21gu379kmDBhFMAQAAAACAohFKoUwcDuneewt/zeUyvo4bx1I+AAAAAABQOEIplElysrR3b9Gvu1zG5ufJyZVXEwAAAAAAsA5CKZTJ/v3l2w8AAAAAAFQthFIok+jo8u0HAAAAAACqFkIplEl8vNSwoWSzFf66zSbFxBj9AAAAAAAAzkYohTKx26XnnzeOzw6mcp/PmGH0AwAAAAAAOBuhFMps4EBp/nypQYP87fXqGe0DB5pTFwAAAAAA8H6EUjgnAwdKu3ZJjz6a13bjjQRSAAAAAACgeIRSOGd2uzR2rOT392havtzcegAAAAAAgPcjlEK5qF1b6tDBOP71Vyk11dRyAAAAAACAlyOUQrlJSMg7XrbMvDoAAAAAAID3I5RCubniirxjQikAAAAAAFAcQimUmy5dpOBg43jZMsnlMrceAAAAAADgvQilUG6Cg6WuXY3jlBRp+3Zz6wEAAAAAAN6LUArl6sx9pZYuNa8OAAAAAADg3QilUK7YVwoAAAAAAHiCUArl6uKLpdq1jePlyyWn09RyAAAAAACAlyKUQrmy26UePYzjv/6SNmwwtRwAAAAAAOClCKVQ7thXCgAAAAAAlIRQCuWOfaUAAAAAAEBJCKVQ7po1k+rXN46Tk6WsLHPrAQAAAAAA3odQCuXOZstbwnfihPTDD+bWAwAAAAAAvA+hFCoES/gAAAAAAEBxCKVQIQilAAAAAABAcQilUCEaNDD2lpKkH3+UMjLMrQcAAAAAAHgXQilUmNx9pRwO6bvvzK0FAAAAAAB4F0IpVBiW8AEAAAAAgKIQSqHC9Ogh+f09wgilAAAAAADAmQilUGHq1JHatzeON22SDhwwtx4AAAAAAOA9CKVQoc5cwvfNN+bVAQAAAAAAvAuhFCoU+0oBAAAAAIDCEEqhQnXtKgUFGceEUgAAAAAAIBehFCpUtWpGMCVJu3ZJO3aYWg4AAAAAAPAShFKocGcu4Vu61Lw6AAAAAACA9yCUQoVjXykAAAAAAHA2QilUuPbtpdBQ4/ibbySn09x6AAAAAACA+QilUOH8/aWePY3j9HRp40Zz6wEAAAAAAOYjlEKlYAkfAAAAAAA4k1eEUi+//LJiY2MVHBysTp06afXq1UX2nTNnjmw2W75HcHBwJVaLsiCUAgAAAAAAZzI9lJo3b57Gjx+vKVOmaN26dWrbtq169eqltLS0Is8JDQ3V/v373Y/du3dXYsUoixYtpOho4/i776TsbHPrAQAAAAAA5jI9lHr22Wc1evRojRw5Ui1bttTMmTMVEhKiWbNmFXmOzWZTVFSU+xEZGVmJFaMsbLa82VKZmdKPP5pbDwAAAAAAMJepoVR2drbWrl2rhIQEd5ufn58SEhK0atWqIs87fvy4zjvvPMXExOiaa67Rr7/+Whnl4hyxhA8AAAAAAOTyN/PN09PT5XA4Csx0ioyM1JYtWwo9p1mzZpo1a5batGmjo0eP6plnnlGXLl3066+/qmHDhgX6Z2VlKSsry/08IyNDkuR0OuV0Osvx05SO0+mUy+UytYbKZtyBz8hBly1zafJkl6n1wHNVcbzC2hizsBLGK6yE8QqrYczCSnxpvHr6GUwNpcqic+fO6ty5s/t5ly5d1KJFC7322mt69NFHC/SfPn26pk6dWqD94MGDOnXqVIXWWhyn06mjR4/K5XLJz8/0VZSVIihIiosL0/bt/vrhB2nnzoOqXp1gygqq4niFtTFmYSWMV1gJ4xVWw5iFlfjSeD127JhH/UwNpcLCwmS323XgwIF87QcOHFBUVJRH1wgICNBFF12kbdu2Ffr6pEmTNH78ePfzjIwMxcTEKDw8XKGhoWUv/hw5nU7ZbDaFh4dbfrCVxpVX2rR9u5STY9PmzeHq29fsiuCJqjpeYV2MWVgJ4xVWwniF1TBmYSW+NF6Dg4M96mdqKBUYGKj27dtr2bJlGjBggCTjh7Bs2TKNHTvWo2s4HA5t2rRJfYtIN4KCghQUFFSg3c/Pz/Qfss1m84o6KlNCgjRzpnG8fLmfrr7a3Hrguao4XmFtjFlYCeMVVsJ4hdUwZmElvjJePa3f9OV748eP1/Dhw9WhQwd17NhRM2bMUGZmpkaOHClJGjZsmBo0aKDp06dLkqZNm6ZLL71UTZo00ZEjR/T0009r9+7dGjVqlJkfAx7q2dO4E5/LxWbnAAAAAABUZaaHUoMHD9bBgwc1efJkpaamql27dlq0aJF78/OUlJR8Cdvhw4c1evRopaamqk6dOmrfvr2+//57tWzZ0qyPgFKoW1e6+GJp7Vppwwbp4EEpPNzsqgAAAAAAQGUzPZSSpLFjxxa5XC8pKSnf8+eee07PPfdcJVSFinLFFUYoJUnffCMNHmxuPQAAAAAAoPJZe5EiLOmKK/KOWcIHAAAAAEDVRCiFStetmxQYaBwTSgEAAAAAUDURSqHShYRIXboYxzt2SDt3mlsPAAAAAACofIRSMAVL+AAAAAAAqNoIpWAKQikAAAAAAKq2MoVSe/bs0d69e93PV69erXHjxun1118vt8Lg2y65RKpZ0zhetkxyOs2tBwAAAAAAVK4yhVI33XSTli9fLklKTU3VlVdeqdWrV+vBBx/UtGnTyrVA+CZ/f6lHD+P44EHpl19MLQcAAAAAAFSyMoVSv/zyizp27ChJ+vDDD3XhhRfq+++/13vvvac5c+aUZ33wYSzhAwAAAACg6ipTKHX69GkFBQVJkpYuXap//OMfkqTmzZtr//795VcdfFpCQt4xoRQAAAAAAFVLmUKpVq1aaebMmUpOTtbXX3+t3r17S5L+/PNP1atXr1wLhO9q2VKKijKOv/1WOn3a3HoAAAAAAEDlKVMo9eSTT+q1115Tjx49NGTIELVt21aS9Pnnn7uX9QElsdmkyy83jo8fl1avNrceAAAAAABQefzLclKPHj2Unp6ujIwM1alTx91+++23KyQkpNyKg++74gpp7lzjeNkyqWtXc+sBAAAAAACVo0wzpU6ePKmsrCx3ILV7927NmDFDW7duVURERLkWCN/GvlIAAAAAAFRNZQqlrrnmGr399tuSpCNHjqhTp076v//7Pw0YMECvvvpquRYI39aokdSkiXG8cqU0e7aUlCQ5HKaWBQAAAAAAKliZQql169YpPj5ekjR//nxFRkZq9+7devvtt/XCCy+Ua4Hwfeefb3x1OKRbb5V69pRiY6XERFPLAgAAAAAAFahModSJEydUs2ZNSdKSJUs0cOBA+fn56dJLL9Xu3bvLtUD4tsRE6euvC7bv2ycNGkQwBQAAAACArypTKNWkSRN9+umn2rNnjxYvXqyrrrpKkpSWlqbQ0NByLRC+y+GQ7r238NdcLuPruHEs5QMAAAAAwBeVKZSaPHmyJkyYoNjYWHXs2FGdO3eWZMyauuiii8q1QPiu5GRp796iX3e5pD17jH4AAAAAAMC3+JflpEGDBqlbt27av3+/2rZt626/4oordO2115ZbcfBt+/eXbz8AAAAAAGAdZQqlJCkqKkpRUVHa+/dUl4YNG6pjx47lVhh8X3R0+fYDAAAAAADWUable06nU9OmTVOtWrV03nnn6bzzzlPt2rX16KOPyul0lneN8FHx8VLDhpLNVvjrNpsUE2P0AwAAAAAAvqVMM6UefPBBvfnmm3riiSfUtWtXSdKKFSv0yCOP6NSpU3rsscfKtUj4Jrtdev554y57Nlve5uZnmjHD6AcAAAAAAHxLmUKpt956S//73//0j3/8w93Wpk0bNWjQQHfeeSehFDw2cKA0f75xF74zNz0PDZVmzzZeBwAAAAAAvqdMy/cOHTqk5s2bF2hv3ry5Dh06dM5FoWoZOFDatUuaNy+vrUULAikAAAAAAHxZmUKptm3b6qWXXirQ/tJLL6lNmzbnXBSqHrtduuEG6cILjeerV0vp6ebWBAAAAAAAKk6Zlu899dRT6tevn5YuXarOnTtLklatWqU9e/ZowYIF5VogqpY+faRffjH2l1qyRLrpJrMrAgAAAAAAFaFMM6Uuu+wy/f7777r22mt15MgRHTlyRAMHDtSvv/6qd955p7xrRBXSt2/eMfkmAAAAAAC+q0wzpSSpfv36BTY037Bhg9588029/vrr51wYqqauXaWaNaVjx6TFiyWnU/IrU3QKAAAAAAC8Gf/ch1cJCJCuvNI4Tk+XfvrJ3HoAAAAAAEDFIJSC1+nTJ++YJXwAAAAAAPgmQil4nd69844XLjSvDgAAAAAAUHFKtafUwIEDi339yJEj51ILIElq2FBq00bauFFas0Y6eFAKDze7KgAAAAAAUJ5KFUrVqlWrxNeHDRt2TgUBkrGEb+NGyeUyNjy/+WazKwIAAAAAAOWpVKHU7NmzK6oOIJ++faUnnzSOFywglAIAAAAAwNewpxS8UufOUmiocbx4seRwmFsPAAAAAAAoX4RS8EoBAdKVVxrHhw4Ze0sBAAAAAADfQSgFr9W3b97xggXm1QEAAAAAAMofoRS8Vu/eeccLF5pXBwAAAAAAKH+EUvBa9etL7doZxz/9JB04YGo5AAAAAACgHBFKwav16ZN3vHixeXUAAAAAAIDyRSgFr8a+UgAAAAAA+CZCKXi1Sy+Vatc2jpcskXJyTC0HAAAAAACUE0IpeDV/f+nKK43jw4el1avNrQcAAAAAAJQPQil4PZbwAQAAAADgewil4PV69847XrjQvDoAAAAAAED5IZSC14uKki6+2Dhet05KTTW3HgAAAAAAcO4IpWAJffrkHS9aZF4dAAAAAACgfBBKwRLODKVYwgcAAAAAgPURSsESOnWS6tQxjpcskXJyzK0HAAAAAACcG68IpV5++WXFxsYqODhYnTp10urVqz0674MPPpDNZtOAAQMqtkCYzt9fuuoq4/jIEemHH0wtBwAAAAAAnCPTQ6l58+Zp/PjxmjJlitatW6e2bduqV69eSktLK/a8Xbt2acKECYqPj6+kSmG2vn3zjhcsMK8OAAAAAABw7kwPpZ599lmNHj1aI0eOVMuWLTVz5kyFhIRo1qxZRZ7jcDg0dOhQTZ06VY0bN67EamGmXr3yjtlXCgAAAAAAazM1lMrOztbatWuVkJDgbvPz81NCQoJWrVpV5HnTpk1TRESEbrvttsooE14iMlLq0ME4Xr9e+vNPU8sBAAAAAADnwN/MN09PT5fD4VBkZGS+9sjISG3ZsqXQc1asWKE333xT69ev9+g9srKylJWV5X6ekZEhSXI6nXI6nWUrvBw4nU65XC5Ta7Ci3r1t+uknmyRpwQKnbr3V5IKqCMYrrIYxCythvMJKGK+wGsYsrMSXxqunn8HUUKq0jh07pltuuUVvvPGGwsLCPDpn+vTpmjp1aoH2gwcP6tSpU+VdosecTqeOHj0ql8slPz/TV1FaRqdOAZLqSZI++yxbV199xNR6qgrGK6yGMQsrYbzCShivsBrGLKzEl8brsWPHPOpnaigVFhYmu92uAwcO5Gs/cOCAoqKiCvTfvn27du3apf79+7vbctM3f39/bd26VXFxcfnOmTRpksaPH+9+npGRoZiYGIWHhys0NLQ8P06pOJ1O2Ww2hYeHW36wVaZevaS6dV06dMim774LUp06EQoIMLsq38d4hdUwZmEljFdYCeMVVsOYhZX40ngNDg72qJ+poVRgYKDat2+vZcuWacCAAZKMH8KyZcs0duzYAv2bN2+uTZs25Wt76KGHdOzYMT3//POKiYkpcE5QUJCCgoIKtPv5+Zn+Q7bZbF5Rh5X4+RnB1PvvSxkZNv34o03du5tdVdXAeIXVMGZhJYxXWAnjFVbDmIWV+Mp49bR+05fvjR8/XsOHD1eHDh3UsWNHzZgxQ5mZmRo5cqQkadiwYWrQoIGmT5+u4OBgXXjhhfnOr127tiQVaIfv6tvXCKUkacECEUoBAAAAAGBBpodSgwcP1sGDBzV58mSlpqaqXbt2WrRokXvz85SUFMsnhChfvXpJNpvkckkLF0pPPGF2RQAAAAAAoLRMD6UkaezYsYUu15OkpKSkYs+dM2dO+RcErxYeLnXoIK1ZI23cKO3dKzVsaHZVAAAAAACgNJiCBEvq2zfveNEi8+oAAAAAAABlQygFS+rTJ+944ULz6gAAAAAAAGVDKAVL6tBBCgszjr/+WsrONrceAAAAAABQOoRSsCS73djwXJKOHZO+/97cegAAAAAAQOkQSsGyzlzCt2CBeXUAAAAAAIDSI5SCZfXqJdlsxjH7SgEAAAAAYC2EUrCssDCpY0fj+JdfpD17zK0HAAAAAAB4jlAKlta3b94xs6UAAAAAALAOQilY2pn7ShFKAQAAAABgHYRSsLT27aXwcON46VIpO9vcegAAAAAAgGcIpWBpfn5S797G8fHj0ooV5tYDAAAAAAA8QygFyztzCd+CBebVAQAAAAAAPEcoBcu76ipjxpTEvlIAAAAAAFgFoRQsr149qVMn4/i336QXXpCSkiSHw9SyAAAAAABAMQil4BPOOy/v+N57pZ49pdhYKTHRtJIAAAAAAEAxCKVgeYmJ0gcfFGzft08aNIhgCgAAAAAAb0QoBUtzOIyZUYVxuYyv48axlA8AAAAAAG9DKAVLS06W9u4t+nWXS9qzx+gHAAAAAAC8B6EULG3//vLtBwAAAAAAKgehFCwtOrp8+wEAAAAAgMpBKAVLi4+XGjaUbLbCX7fZpJgYox8AAAAAAPAehFKwNLtdev5547ioYGrGDKMfAAAAAADwHoRSsLyBA6X586UGDfK322zSe+8ZrwMAAAAAAO9CKAWfMHCgtGuXtHy5dNllRpvLJfn7m1oWAAAAAAAoAqEUfIbdLvXoIT38cF7b3LmmlQMAAAAAAIpBKAWf06OHFBVlHC9YIB05YmY1AAAAAACgMIRS8Dl2uzR4sHGcnS198om59QAAAAAAgIIIpeCThgzJO2YJHwAAAAAA3odQCj6pY0epcWPj+JtvpNRUc+sBAAAAAAD5EUrBJ9lsebOlnE7pww/NrQcAAAAAAORHKAWfdeYSvvffN68OAAAAAABQEKEUfFarVlKbNsbxDz9IO3aYWw8AAAAAAMhDKAWfduZsqQ8+MK8OAAAAAACQH6EUfNqNN+Yds4QPAAAAAADvQSgFnxYbK3XpYhz/8ou0aZOp5QAAAAAAgL8RSsHnseE5AAAAAADeh1AKPu/66yW73Th+/33J5TK3HgAAAAAAQCiFKiAyUrriCuN41y7jTnwAAAAAAMBchFKoEm66Ke947lzz6gAAAAAAAAZCKVQJ114rBQUZxx9+KOXkmFsPAAAAAABVHaEUqoTQUKlfP+M4LU365htz6wEAAAAAoKojlEKVceYSPu7CBwAAAACAuQilUGX07SvVrGkcJyZKp06ZWw8AAAAAAFUZoRSqjGrVpIEDjeOMDGnBAnPrAQAAAACgKiOUQpUyZEjeMUv4AAAAAAAwD6EUqpQrrpDCw43jL74wZkwBAAAAAIDK5292AcA5S0mR0tOLfj0sTGrUSJLk7y/dcIP08stSVpb06afSsGGVUyYAAAAAAMhDKAVrS0mRmjUrftfy4GBp61Z3MDVkiBFKSdLcuYRSAAAAAACYgeV7sLb09JJvo3fqVL6ZVJ07S+edZxwvXSodPFiB9QEAAAAAgEJ5RSj18ssvKzY2VsHBwerUqZNWr15dZN/ExER16NBBtWvXVvXq1dWuXTu98847lVgtrM7PT7rxRuPY4ZA++sjcegAAAAAAqIpMD6XmzZun8ePHa8qUKVq3bp3atm2rXr16KS0trdD+devW1YMPPqhVq1Zp48aNGjlypEaOHKnFixdXcuWwsptuyjueO9e8OgAAAAAAqKpMD6WeffZZjR49WiNHjlTLli01c+ZMhYSEaNasWYX279Gjh6699lq1aNFCcXFxuvfee9WmTRutWLGikiuHlbVuLbVsaRyvXCnt3m1uPQAAAAAAVDWmbnSenZ2ttWvXatKkSe42Pz8/JSQkaNWqVSWe73K59M0332jr1q168sknC+2TlZWlrKws9/OMjAxJktPplNPpPMdPUHZOp1Mul8vUGnyC0+lRsup0OqWzvtc33ihNnmyc/f77Tv373xVQn49gvMJqGLOwEsYrrITxCqthzMJKfGm8evoZTA2l0tPT5XA4FBkZma89MjJSW7ZsKfK8o0ePqkGDBsrKypLdbtcrr7yiK6+8stC+06dP19SpUwu0Hzx4UKdK2iC7AjmdTh09elQul0t+fqZPWLMs/0OHFOZBv4ykJJ1q2DBf25VX2jV5crgk6d13HRox4q8KqNA3MF5hNYxZWAnjFVbCeIXVMGZhJb40Xo8dO+ZRP1NDqbKqWbOm1q9fr+PHj2vZsmUaP368GjdurB49ehToO2nSJI0fP979PCMjQzExMQoPD1doaGglVp2f0+mUzWZTeHi45QebqerW9ahbrUmTFBoZKQ0d6m6LiJA6dnRp9Wqbfv01QOnpEe4lfciP8QqrYczCShivsBLGK6yGMQsr8aXxGhwc7FE/U0OpsLAw2e12HThwIF/7gQMHFBUVVeR5fn5+atKkiSSpXbt22rx5s6ZPn15oKBUUFKSgoKBCr2H2D9lms3lFHZYWESEFB0slzHqz5eTINmyYsXnUgw9KNpskY8Pz3Js9zpvnp0cfreiCrYvxCqthzMJKGK+wEsYrrIYxCyvxlfHqaf2mfsrAwEC1b99ey5Ytc7c5nU4tW7ZMnTt39vg6Tqcz375RqEIaNZK2bpXWri388eOP+W+19/DD0qhR0unTkqQbbpBy/6zMnSu5XCZ8BgAAAAAAqiDTl++NHz9ew4cPV4cOHdSxY0fNmDFDmZmZGjlypCRp2LBhatCggaZPny7J2COqQ4cOiouLU1ZWlhYsWKB33nlHr776qpkfA2Zq1Mh4FOXdd6W2baWJE43ns2ZJKSnS/PmKjq6lnj2lZcukHTukNWukjh0rp2wAAAAAAKoy00OpwYMH6+DBg5o8ebJSU1PVrl07LVq0yL35eUpKSr5pX5mZmbrzzju1d+9eVatWTc2bN9e7776rwYMHm/UR4O1sNunf/5bOO08aPlzKypKWLpW6dpUWLNCQIY2UO1nv/fcJpQAAAAAAqAw2l6tqLVjKyMhQrVq1dPToUdM3Ok9LS1NERITl14paysqV0jXXSH/9fae9qChlvP+Vwq66WKdPS1FR0t69kt1ubpnehvEKq2HMwkoYr7ASxiushjELK/Gl8epp9mLtTwmUVteu0qpV0t8b5Ss1VaFXd9fki7/MfapvvzWxPgAAAAAAqghCKVQ9TZsawVSXLsbzzEz9Z/U1GqNXJBkbngMAAAAAgIpFKIWqKSzM2N38hhskSX4up17RXXpaE5Q43ylu5ggAAAAAQMUilELVFRxs7Gyee1c+SRP0f3rj6PWacv8JJSVJDod55QEAAAAA4MsIpVC1+flJTzwhzZwph83Y3fw6JWrAi5frhp5pio2VEhPNLREAAAAAAF9EKAVISgz/p/q7vtAx1ZAkXaof9YMuVfW9WzVoEMEUAAAAAADljVAKVZ7DId17r7RQfdRNK7RXDSRJjbVT36uz4l3fadw4lvIBAAAAAFCeCKVQ5SUnS3v3Gscb1VaX6gdtUBtJUl0d1hJdqW575io52cQiAQAAAADwMYRSqPL278//fJ8aKl7JWqRekqQgZWuuhqrOq49JLpcJFQIAAAAA4HsIpVDlRUcXbDumUPXXF3pdo91tbT98SBo1Sjp9uhKrAwAAAADANxFKocqLj5caNpRstvztOQrQP/WaJuqJvMZZs6R+/aSjRyu3SAAAAAAAfAyhFKo8u116/nnj+OxgSrLpKU3UYH2gHP8go+nrr6Vu3aSUlMosEwAAAAAAn0IoBUgaOFCaP19q0CB/e+3axtcPNVhXOJcqu2Zdo+GXX6RLL5XWravUOgEAAAAA8BWEUsDfBg6Udu2Sli+X5s41vqanS+PGGa9/5+ymTs4flBUTZzTs3y917y599ZVZJQMAAAAAYFmEUsAZ7HapRw9pyBDjq90uPfOMdM01xuvrM5vqUucqZXfoYjRkZkr/+If0yitmlQwAAAAAgCURSgElsNul996TOnQwnq/fF66ezmXKufZ6o8HplO66S7r/fuMYAAAAAACUiFAK8ED16tIXX0iNGhnPv18XrOsdH8g54d95nZ55RrrhBunkSXOKBAAAAADAQgilAA9FRRnbR4WGGs8//dxPExxPSjNnGtOpJOnjj6XLL5fS0swrFAAAAAAACyCUAkrhwguNu/TlZlDPPSe9nPNPYxpVjRpG4w8/SJ07S1u3mlcoAAAAAABejlAKKKUrrzQmR+W65x7pK2cfKTlZql/faNyxwwimvvvOnCIBAAAAAPByhFJAGYwaJT3wgHHsdEqDB0s/u9pJP/4otWljvHD4sJFgzZ1rWp0AAAAAAHgrQimgjB57zNjXXJIyM6Wrr5b2qqExY6pXL+OF7Gxp6FDp8ccll8u8YgEAAAAA8DKEUkAZ+flJc+YYq/Qk6c8/jWDqmC3U2GNq1Ki8zg8+KI0eLZ0+bUqtAAAAAAB4G0Ip4BxUqyZ99pnUuLHxfMMGYylfljNASTe9rvU3Ts/r/OabUr9+0tGj5hQLAAAAAIAXIZQCzlF4uLRggVSnjvF84UKpXj2p5+U2XfTBAxqsD5SlQOPFr7+W4uOlPXvMKxgAAAAAAC9AKAWUg2bNpE8+kex243lmZt5rH2qwErRMf6mu0bBpk9Spk/Tzz5VfKAAAAAAAXoJQCign3bpJtWoV/toKdVMXrdIu/zijYf9+Y8bUggWVVyAAAAAAAF6EUAooJ8nJ0qFDRb/+uy7QJTmrdLTV3zujZ2ZK/ftLr75aOQUCAAAAAOBFCKWAcrJ/f8l90hWuD29fJl1/vdHgdEp33indf79xDAAAAABAFUEoBZST6GjP+t01oZruqP2BDo36d17jM88Yt+07ebJiigMAAAAAwMsQSgHlJD5eathQstmK73f6tPTaG34Ke/NJzWz7qlx+f/8xnD9fuvxy6eDBii8WAAAAAACTEUoB5cRul55/3jg+O5iy2YzHP/4h1axptLlc0pgNd6if8wud8KtuNP7wg3TppdLvv8vhkJKSpPffN746HJX1SQAAAAAAqHiEUkA5GjjQmPDUoEH+9oYNjfbPPpNSUqQnn5Tq1zdeW6i+6upM1j793bBjh7Lad9YN0cnq2VO66SapZ08pNlZKTKzUjwMAAAAAQIUhlALK2cCB0q5d0vLl0ty5xtedO412SapdW/r3v4222bOlVq2k9bpInfSjNqiNJCno+CHNPZigG/W++7r79kmDBhFMAQAAAAB8A6EUUAHsdqlHD2nIEOOr3V6wT2CgNGKEtHGj9OWXUpPLGipeyVqsqyRJQcrW+7pJD2i6JJdcLuO8ceNYygcAAAAAsD5CKcBkfn5Sv37GvlFPvRqqq/Wl3tAo9+vT9R+9odHy12m5XNKePVJysnn1AgAAAABQHgilAC9Sq5aUowDdrtf/niFlGKU39ZX6qaYyJEn795tVIQAAAAAA5YNQCvAi0dG5RzY9qQd0o95XlgIlSVfpa61QNzXUHn32mXT8uGllAgAAAABwzgilAC8SH2/cqc9mM57P041K0FL9pbqSpDbapB90qbbMW6/mzaWPPpJ7rykAAAAAAKyEUArwIna79PzzxnFuMLVC8eqsVdqmOElSA/2pZMWrzb4FuuEGqVcvaetWkwoGAAAAAKCMCKUALzNwoDR/vtSgQV7bH7pAg+qv0l/NOkuSauq4vlB//VMz9fXXUuvW0n/+I2VmmlQ0AAAAAAClRCgFeKGBA6Vdu6Tly6W5c42va1PCVe/nZdKgQZIku5yaqTF6Uv9Wzmmnpk+XWraUPvkkb0mfw2Hc1e/9942vDodZnwgAAAAAgPz8zS4AQOHsdqlHj7Maq1WT5s2THnhAevppSdK/9bQa++3SLc63lJJSTQMHSr17S/36SU8+Ke3dm3d6w4bG8sCBAyvtYwAAAAAAUChmSgFW4+cnPfWU9MorxrGkQc6PtLbWFQrTQUnSokXS3XfnD6Qkad8+Y6JVYmJlFw0AAAAAQH6EUoBVjRkjffGFVL26JKnl0VXaGdVZ3SJ+L/KU3GV948axlA8AAAAAYC5CKcDK+vaVkpOl+vUlSTVSt2vZyc7qqhVFnuJySXv2GKcBAAAAAGAWQinA6i66SPrhB+MWfJICjx3SMl2hwfqg2NP276+M4gAAAAAAKByhFOALYmKkFSukq66SJAUpWx9oiCbqCUmuQk+Jjq7E+gAAAAAAOAuhFOArQkOlL7+U87ZR7qYnNEmv63b563S+rjExUnx85ZbncEhJSdL77xtf2dMKAAAAAKo2rwilXn75ZcXGxio4OFidOnXS6tWri+z7xhtvKD4+XnXq1FGdOnWUkJBQbH+gSgkIkN8br+uXoY+7m0brf/pSV6umMtxt99wj2e2VV1ZiohQbK/XsKd10k/E1Npa7AAIAAABAVWZ6KDVv3jyNHz9eU6ZM0bp169S2bVv16tVLaWlphfZPSkrSkCFDtHz5cq1atUoxMTG66qqrtG/fvkquHPBSNpsufHeSVo+bqywFSpJ6aYlWqJsaaK8kadYs6eTJyiknMVEaNEjauzd/+759RjvBFAAAAABUTaaHUs8++6xGjx6tkSNHqmXLlpo5c6ZCQkI0a9asQvu/9957uvPOO9WuXTs1b95c//vf/+R0OrVs2bJKrhzwbh2fGyL/5Ut1OrSuJKmNNmldQCe11Xpt3ixNnFjxNTgc0r33Gnf8O1tu27hxLOUDAAAAgKrI38w3z87O1tq1azVp0iR3m5+fnxISErRq1SqPrnHixAmdPn1adevWLfT1rKwsZWVluZ9nZBhLmJxOp5xO5zlUf26cTqdcLpepNcD32bp3lf2HFXJdfbVsO3Yo4vSfSla8btCHevHFPurd26nevUu+TlnH67ffSnv3Fp19u1zSnj3St9861aNHqS4NFIvfsbASxiushPEKq2HMwkp8abx6+hlMDaXS09PlcDgUGRmZrz0yMlJbtmzx6BoTJ05U/fr1lZCQUOjr06dP19SpUwu0Hzx4UKdOnSp90eXE6XTq6NGjcrlc8vMzfcIafFmdOrJ99pnqjBihwLVrVVPH9YX66y69rJEjR+mbb9JVr17hd+jLVdbxunVrsKTaHvTLUMuW5v15hO/hdyyshPEKK2G8wmoYs7ASXxqvx44d86ifqaHUuXriiSf0wQcfKCkpScHBwYX2mTRpksaPH+9+npGRoZiYGIWHhys0NLSySi3A6XTKZrMpPDzc8oMNFhARIX37rVzDh8v28cfyl0Ov6Q41Ttuhh/7zuOYn2mSzFX16Wcdr9eqe9WvWLFQREeb9eYTv4XcsrITxCithvMJqGLOwEl8ar0VlNGczNZQKCwuT3W7XgQMH8rUfOHBAUVFRxZ77zDPP6IknntDSpUvVpk2bIvsFBQUpKCioQLufn5/pP2SbzeYVdaCKqF5d+vBD6YEHpKefliRN1FP68POdeuf1tzRiTLViTy/teN2+XTpjZW4R15QaNpQuu8xP/DFAeeN3LKyE8QorYbzCahizsBJfGa+e1m/qpwwMDFT79u3zbVKeu2l5586dizzvqaee0qOPPqpFixapQ4cOlVEq4Bv8/KSnnpJeeUWuv39J3KCP1GxsgnasTi+3t9m9W7r8cunPP/PaCpuJ5XJJTz4p2e3l9tYAAAAAAIswPXobP3683njjDb311lvavHmzxowZo8zMTI0cOVKSNGzYsHwboT/55JN6+OGHNWvWLMXGxio1NVWpqak6fvy4WR8BsJ4xY2T74gud8jfW13V2fq+A7p2Vs/mPc7703r1Sz55SSorxvFUradYsqUGDwvt/++05vyUAAAAAwIJMD6UGDx6sZ555RpMnT1a7du20fv16LVq0yL35eUpKivbv3+/u/+qrryo7O1uDBg1SdHS0+/HMM8+Y9REAa+rbV86kZB2wR0uSYrK2Kbt9Z2nFijJfcv9+Y4bUzp3G82bNpKVLpZEjpV27pOXLpblzpTlzpNwlxq+9JiUmnttHAQAAAABYj83lchV/2y0fk5GRoVq1auno0aOmb3SelpamiIgIy68VhbX9/Pke+V/TV631iyTJGRAov3felgYPdvfxZLympUk9ekibNxvP4+KMWVBFzZB64w3p9tuN4zp1pA0bpJiY8vpUqOr4HQsrYbzCShivsBrGLKzEl8arp9mLtT8lgHN20T9itGDSCi3RlZIkv9PZ0o03Gps9eZhZp6dLCQl5gVRsrPTNN0UHUpI0apQ0aJBxfPiwNHSo5HCcwwcBAAAAAFgKoRQA3TetlqZ1/Er/0215jQ88IF13nbR6tbRunfw3bpTWrct7/L1p1OHD0pVXSps2GafFxBiBVKNGxb+nzSa9/npev+Rk6bHHKuDDAQAAAAC8kr/ZBQAwn7+/9NbcALVr+4Z2ZDbW43rQeOGTT6RPPpGfpLCzTwoOVsaarep1ayOtX2801a9vBFLnn+/Z+9apY+wx1b275HRKU6cae1J161Y+nwsAAAAA4L2YKQVAkrEH1Asv2jRd/9EkeTBl6dQp3XNTutasMZ5GRkrLlklNmpTufbt2laZMMY6dTmMZ3+HDpbsGAAAAAMB6CKUAuI0YIQ0cKC1Wb4/6b/x7yV5YmBFINW9etvd98EEpPt44TkkxNkCvWrdgAAAAAICqh1AKgJvNJr32mhReYK1e4f6lZzW0+qda/uFBtWpV9ve126V33zWW80nS/PnSm2+W/XoAAAAAAO9HKAUgn7CwvOV0JblF7+ndzGt14eURUosWxhSnd96Rdu4s9VSnRo2k//0v7/k99+TdzQ8AAAAA4HsIpQAU0KVLGU7askV64w1p2DCpcWPjNnxDhkivvCJt3GhsGFWCgQOlf/7TOD550jj91Kky1AIAAAAA8HqEUgDK7v/+T5owQerUybiF35n27ZM++EC66y6pbVupXj3p6qulJ5+UVq6UsrIKveSzz0otWxrHGzZIEydW8GcAAAAAAJjCv+QuAKoah0Oye9Ivvofsl1xsPMnMlH78UVqxQkpOllatMtpyHTkiffWV8ZCk4GCpY0djh/P4eKlzZyk0VCEhRpZ1ySVGbvXCC9KVVxp5FgAAAADAdxBKAShg9Y4wtVOwqqnotXMnFaz1O8LU+ZK/G6pXly6/3HhI0unT0vr1RkCVG1Slp+dd4NQp6bvvjIck+fkZM6ri49U6Pl6vTummW/8TJUkaOdKYNVW/fvl/1rJwOIyPs3+/FB1tZGp2T1I8AAAAAIAboRSAAnY5G2mwtipM6UX2SVeYnnQ2UueiOgQEGNOdLrlEGj/e2Ph869b8IdXOnXn9nU7p55+NxwsvaKSkXtWbaFFmvJLT4/XAoHjNSY6Tn91Wnh+11BITpXvvlfbuzWtr2FB6/nljTywAAAAAgGcIpQAUEB0t7VEj7VGjEvt5zGaTmjc3HqNHG2379uUPqTZtynfXvvqZ23SrtulWzZZWScfrROnExd2057x4ubrF66LhbWQPLN0UpXOZ5ZSYKA0aVPDGgvv2Ge3z5xNMAQAAAICnbC5XKe/bbnEZGRmqVauWjh49qtDQUNPqcDqdSktLU0REhPz82G8e3sXhkGJjjbClsN8QNpsxO2jnznJetnb4sPT993kh1Zo1UnZ2kd2P2WrqRNsuihz0975UHTsae1UV4VxmOZ0+LZ13nhFmFaa03xOWAFYsfsfCShivsBLGK6yGMQsr8aXx6mn2wkwpAAXY7UZQM2iQEbacGUzZ/l49N2NGBYQodepI/foZD0k6eVJas0ZzxySrzm8r1FUrFapj7u41XcdUc/1iaf1ioyEwUOrQIW/z9K5dpdq1JZU8y+nDD4291nftKvqRk1N06S6XtGeP1L69dOmleZPCmjUzwqwz/5vCEkAAAAAAYKaUaXX4UgIK31VYeBITYwRSlRWeOBxGqLNvn+Qnh9poo+KVrG5aoXglK1qpRZ7rlE0Hwi9Uynnxeu3XeC0+Ga8/1aByCj9DcLB0wQVGSOVySR99VLBPbtjHEsDywe9YWAnjFVbCeIXVMGZhJb40Xj3NXgilTOJLgw2+zeGQvv3Wqa1bM9SsWaguu8yvUpeZJSVJPXsW9apLcdqueCW7g6oL9Eex19uh87VC3f4+I15b1UxS8Zun16wphYXl35e9IlTYssgqiN+xsBLGK6yE8QqrYczCSnxpvLJ8D0C5sNulHj2kli1PKSIiVJX9u7GoPZwMNm1XE21XE83RSElSpFLds6jilay22iC7nO4zGmunGmunhukdSdJBhblDqoPN4hV25UVq1NhfsbFyP2rXNm4O6Mk+Wz//LG3bJm3Zkv+xbVvxy/+kvCWAycnG9xwAAAAAfBmhFACv5ukd/t5919jP6fTpKGVnD9Lp04OUeVpKPpyhtM9W6fdZRkjVST8qWFnu88KVrmv1qa7Vp9JWSXurG5tCxcdLteKlZpdKthCP99mqV894dOqUv77Tp6UXXpAmTCj5sxQfxAEAAACAbyCUAuDV4uONGUglzVC68cailryFytGvl2KX9NLkfVKAK0vttdY9k6qrVqqOjuR1z8yUli0zHpLk72+kXd26aWB8vD6f3U1jHqpXYJPykvbZCggwLuOJtDTP+gEAAACAlVl7kSIAn5c7Q0nKm5GUy9M7AZ55jdO2IK1SFz2lieqvLxWmv9RGG7V+9MtGstXgrI3Qc3KkH3+U/u//pAEDdPWIMKWEttK+/nfo+zvf1ffv79bOnZ5tTp4bsJ39Oc52333Syy8XHsIBAAAAgK9gphQArzdwoHFXurPvBOjJDKWSrtEgxk+PzGitdgNbS7rTSIJ27zY2dsp9bNmS71q2335T/d9+U329Jr0i6d8xRuLUrZvxtWVLFbb5lt0uvf5Qih66I12SdGbmZPv7ebrCtMfRSGPHSmvXSq+8Yty9DwAAAAB8DXffM4kv7aoP3+ct49XhMDKi/fuNvabi40t/l7oyXePgQWnlyryQat0640JFqVtX6to1L6hq314KDJRSUqRmzaRTp4o89bQ9WHGOrdqjRpKkSy6REhONAA6e85YxC3iC8QorYbzCahizsBJfGq/cfQ+Az8m9E2ClXyM8XBowwHhI0vHjxpK+3JDqhx+kEyfy+h86JH3xhfGQpGrVjJ3PmzQpNpCSpADHKb3xeLqufbSRTp6U1qwxMq35842MCwAAAAB8hbWjNwAwQ40a0hVXSI88YmyIfuSIEVI984x0zTXG7ffOdPKklJQk/e9/Hl2+Vy9p1SopNtZ4npYmXX65sZSvas1tBQAAAODLmCkFAOcqIEDq2NF43Hef5HRKW7fm35dq927Przdtmtp26qSNDzfR/TPj9P6aOGXk1NJdd0k//cQ+U5WhPJaKAgAAACgeoRQAlDc/P6lFC+Nx++1G25490jvvSA8+WPL5n30mffaZakqa+ffjoMK0TU20fXac3l0cp4H/bqK6l8TJcX4TJW8J1/5UG+FJOUlMLHxT/eef92xTfQAAAACeIZQCgMoQEyP17u1ZKFWIcKUrXOnqrB+kPyWNM9rtktqrhhFYKU4zazZR56Fxuvj6OGMPq4YNC70TIAqXmCgNGlRwmeS+fUb7/PkEUwAAAEB5IZQCAG/z7rvGksDt26Vt2/K+7ttXaPeaOq6LtF4Xab10THnTqyTjrn+NG0txf4dUcXF5x7Gxxutewuwlcw6HMUOqsH27XC7JZpPGjTO2DWM2GgAAAHDuCKUAwNu0aCFdfHHB9pMndXjdTv3fmG3K3LRdTbRNcTK+xmqX/OUoeE52trRli/E4m5+f1KhR/sDqzOCqenWPSz7XQMkblswlJ+d//7O5XMYqzOTkc78LpKfMDuoAAACAikQoBQCVJSzM2KH81Kmi+wQHG/0KU62a6nRtqZ7PtVRCQv6X7MpRI6XkC6qGd92usCPbpB07jDsAns3plHbtMh7LlhV8PSqq8MCqSROpbl13t3MNlLxlydz+/Z71S06WLrvMmDlVkbwhqAMAAAAqEqEUAFSWRo2Mu/KlpxfdJyzM6FeMtLSCbQ75a6caa6ca6+u/2+Y7pGF3ST26O9W8dqps27cVXBK4fbt05Ejhb5SaajxWriz4Wu3aUlyc9gQ30ZaVcUr4e0+r7YrTfkVr3z4/jwIlb1kyd/y4EQJ5YvJk6c03pRtuMB7t2xceUJ3LLCdvCeoAAACAimRzuQr7p4DvysjIUK1atXT06FGFhoaaVofT6VRaWpoiIiLkxybE8HKMV++SlCT17Fm6cyIijCVnuY/mzY0gJTFRmnL3IVX7M2+GVZuQ7erZaJvCjmw3QqlSOqFq2qHG2qYm2hsUpya9muhgaJz2VWuiP/0b6fgpf504YUze2rtXWreu5GsuX166JXOlGbOffirdfXfxS/eKc/75eQHVRRflfV/LOsvJ4TC2+yqqHpvNuNbOndZbysdyxMLxOxZWwniF1TBmYSW+NF49zV4IpUziS4MNvo/x6l1yQ4t9+wqfYSQZwUVxv90jIoyVeKtWFX6uJD37rHTxBcd14pcdcvy+XfZd21Ttz+2qfXCbwo9tV2RWiuxylqr20/LXbp3nvlvgmV936nydUrVCz3vvPemmm0q4eEqKexaa0+nUoUOHVLdu3bwxe9YstJQUI4z6/PO8SwQESKdPF/z+5X5PxowxJpctXWr8HM7WpInUpo30yScFv/+518id5ZSdbexRtXt3/sf69cajJKUN6szGcsSi8TsWVsJ4hdUwZmElvjRePc1eWL4HABZjtxv/kB80qOjwZN48YwZPUpLxSE6WMjLy+qWlFb4MUMq73r/+JUk1JLX5+5FfgLIVq13uGVZnfm2sHQpSdiHn5KiJtquJthf63nvVoNDA6umH4uRw1NLgwUXcMDAlRWrWzL1fl5+kAjtzBQdLW7fqdHQjPf+8NGWKdOJE3su9ekkvvyxt2FB4eDJjRl54kp5uzLCaN0/65htjey7JWBG5bVuhH839fR0yRKpXz5iEdi7/W6iImzF6JZYjAgAAoDDMlDKJLyWg8H2MV+9U2MyTmJj84UmunBxj9k1SkvTtt0aQcmYgUxY1ahh7MRXGTw410D410TaN/8d2tQzarppp21R9/3YF7d0m+4kiTizGQYUpJSBOQS3i1PiqJgppfcbm63v3Sh06lHiNjXPW6pZnL9bGjXltUVHG9+yGG/JCvdIsMzt40PhZfPihMXupsv6r2rSp9MILRphW0Zuun4vyXo7oi0sA+R0LK2G8wmoYs7ASXxqvLN8rAqEUUHqMV+9V1n+gv/eedPPNJfe7+mpjiVhEhBQZaXyNiDBWwtntxS8jLDJscLmMJOfvjdY3f7ldaz/Mm2kVrmI2gi9KtWqF32HwLO21Vut0sbu+O++UHntMqlWr9G9ZmJkzjSV+JQkNNSZ2nXdewUfDhlK7dsUvzzxTfLzxGeLjz7n8CuHpHmidO0sJCVLbtsbnP/986exfN766BJDfsbASxiushjELK/Gl8cryPQCoAuz2su0r1KCBZ/3uu6/465e0jHDGjEJCMpstL93q0kUtbpE2D5Zu+DtsCNVRxWm7OtXbrrt6b1eroG06+vN25WzZprCTRUy38SCQkqR3dLO2K07Z9aJ16YBoNbgwWkqKNhK96Ghj2lRAgEfXKkzz5p71++yzsn9fXS4jsNm502hLTpa6d5d69zbCqYsvLnP55W7tWmniRM/6rlqVf4+zmjXzAqp27aRDh4xrsQQQAADAdzBTyiS+lIDC9zFefU9Jm6WXZklVaZYRllRTSbO+dm0+qXlP7NTaj7ar/sm8Paxa6Rc1Uhlvn3e28PC8kKq4R7WCm7JX1vd1wADp44+lhx+Wtm7Nf96gQdK0aVKLFvnrqqwlby6X9N130uOPS0uWVMx7nM3KdySU+B0La2G8wmoYs7ASXxqvLN8rAqEUUHqMV9+Uu/m0VPgsp9LMPKnsfX4yMqTZs40ZRTt3ShdpndapfYnnuWw22crrP3u1ahkftn79fGHV6j3RmjgjWvsVrT8VrWOqKclWId/XnBzpnXekRx4x9nrP5ecnDRtmbOa+bl3lLHlzuaSvvpKmT5e+/z7/a35+eZvBny03UPrmG2nTJmOj+dw7EO7eXboarHZHwlz8joWVMF5hNYxZWIkvjVdCqSIQSgGlx3j1XeU1y8ksDof0xRfS+/ev07xtJYdSP726Wh0GxBgpz5mPP//M/zw1VcouePfAsshUiPYrWocCo1W/fbQadqxf+MyrunXLvGN5Vpb0+uvSf/+b/66KdrvxPTpbeQZkOTnSRx9JTzyhfBvIS8Yyw3//W6pdW7rpJqOtNAHo4cNGSDVrlhG+lWTuXOPuhlbicEjffuvU1q0ZatYsVJdd5mfJ2V6oOvg7AayGMQsr8aXxyp5SAIASDRwoXXONde9mZrcbS9mCf5P0YMn90w/ZjX2joqKkiy4quqPLZWxidHZ4VViAVcJtDKvrhJpou5S9XVol41GYwECjrsICqzNnY4WHF/gBBQVJd98t3XqrcUe+p56SjhwpPJDK/Xg2mzRunPHzL/bnnZKibz5M19NPSwfOCLwiwo29rBauCdOKlEb5TmnVSpo0SRo8WPL3z/t4hc3YKi4ArVMnb+aTJ6FUZGTJfbxJXijsJ6m2JN/YuB0AAMBTzJQyiS8loPB9jFd4u1XzUtTuxmaqplNF9jmpYK3/YKs6D25UZJ9Sc7mkY8cKD6/ODrCOHi2f9/TzM9KXYva7OhJSX/c+Hqm3Pwgs8XJdukht2hib3zdoYORfuce1M1LkbNpM9tPFf1+baav2qJE6dZL+8x/jro2F/aoo6zLPkvbqytW/v/Tuu8bdDb1d7vLZsz9PWWaxoaDKXlJclZTH3wn4+aAy8fdYWIkvjVeW7xWBUAooPcYrvJ3DIXVpmKKc1HQV9h81m6SA6DCt3NPIvH/4nDxZdHh1ZoiVnl5ub3lQYdqv6BIfJxVS6PmXBq7TquySl0XecclaDX7yYvXoUeYViCUqag+0szVvLn36qdSsWcXUUR5yQ7a9RezNb+WN270hbChsWTIz0MrPuf6dgJ8PKht/j4WV+NJ4ZfkeAKDKsNuliS830qBBxiyoQvctesnkf+BXqyY1bmw8ipOdLR04UHKAlZpa9O7hfwtXusKVrjbaVGy/owrVn6pfIKwKyi56htSZRo2SOvT0qGuZDRxozB4qbA+0ESOkl14y9qDaskXq2NGYMdW/f8XWVNoA5sgRafVq6f33iw6kJGP87tljXNtKG7d7Q9hQ1Ay0ffuMdqvOQCuPsM9bAkNf/PkAAMqOmVIm8aUEFL6P8QqrsPrG7aXicEgHDxYZWrn+3K+9P+1XhGO/glQ+m7YXJbVlT0W1byhVry7VqGF8LexR1GuBJS8zzFXUP6y3b5euvda4g1+uqVOlhx4qfCnhuSopgMnJkX79Vfrhh7zHli15fWOUojAVPSsuXWEKjGukUaOMfdOaNy+6Fm8OGypzOaKvzkArj7CvPAPDsv6dwFd/Pt7EG34XeCP+Hgsr8aXxyvK9IhBKAaXHeIWVcDezPImJ0qDrXKqrQ4o6Yw5U7pyo67rsV0P7GWFWZqY5hfr7ly3MOuu1E7bqmvRYdX28qLoyVV3HVUP9rgnQ22+X7z5TRQUwuVq1knbtKvrbGaMUbVXJe6Dl7tUlGaHUtdcaAdUll+SFPd4wO8lbwobly6XLL/esn1VmoJVH2FfegWFZ/k5w6pT0+OPSo4+W3NdKP5/ydK6Bkjf8LvBG/J0AVuNL/+4ilCoCoRRQeoxXWA1jNk+pZo/lbtr+9wbtzh/XyO/55yqz3HKXrQCd9KuukPDqCqhV+qDr7IejWg216Vxdv/9ZXTkK8LiOgADjho+XXir1Cl+nvg+XvFfXxVqrn3VxgfYGDYxwKixMmjbN/M3Sv/zSs6WSFRU2ZGYad2d87LHil0XmuuIK6bnnpNaty7+W8lQeYV9FBIal+f3688/SrFnSe+8Zy2s9MXeuNGSIZ319xbkGSuUZPPrSbCuCOliRL/0d1jKh1Msvv6ynn35aqampatu2rV588UV17Nix0L6//vqrJk+erLVr12r37t167rnnNG7cuFK9H6EUUHqM1/9v787DoyrP/oF/z8xksk2SIWSFEJYEQoCQsqbRV7GFGpayqiDQAkqxIKioWLAubK1Qay0FfKHFCv4sUsAXRC0qMZigASIQVgkR0kBAwhLIHrLMzPP745BJJpktC7Mk3891nYuZs81zztw5zNxzP88hd8OYNdXsLxmZmcAg28kT7N0rj5VVXg6Ulcn/WpqsLa+/TKdr8XHfa9XwQDl8jVMZNMbHOk9f+If5QtvZF8HdfBHcQ1OXFLt5E1i61Ob+r+w5hh0XBmL3biA93foA7w01NdnQlBjR64Fjx4Avv5Sngwfta9uiRcAf/gB4etp/HNb897/AO+/ISY+ioqZvP2wY8MwzwPjxcrGeq0lNBX5mx1htfn5y+4VoPOl0cpWSLfYmDO2pOikslJNQ770nJ6WaasMGYO7cpm/nrpqSUDIYgJIS+RzXTgUFwLx51pN+4eHytcDW356rJXFakiBzhS7FdO+1pSRqrbb0GdYtklLbt2/HjBkzsHHjRiQkJGDNmjXYuXMnsrOzERIS0mj9I0eOYMeOHRg0aBCef/55LF68mEkpIgdgvJK7Ycy2EnuTUseOAQMbV/S0SHV18xNad6c7t8qRe6YcyspyaFAGX5TDT1EOpcH1E14A5D6HAQGAry9qvDQoqPDFlUJfXLylQanBfDKs4ePnXvbFyEd80aHL3eovH59Gt0i054vo1at1SaivvgJu3WreIQUEyFVekycDI0aYH07M2pcMIYDkZGDdOuA//2n8hTPKIw/+NZbH6rqFIOTd7RJZ/1jnzgXmzAHqf/x09pedN94AXnnFMa/VuTOQlCRX8v30p0CfPo2P1VqcTJgA7N8P/POfwO7dQFWV6bZeXnIsJSfLSRRr3z4UCmDxYjlv21oJTFdlq5INkKssIyLkxGtxsc37W1gVHi6/1xERjf/9/nvg2WddJ4nTkgSZTgdERsp/u+Zw/LK2wdWSqK2lLX2GdYukVEJCAoYMGYL169cDkN+ALl264JlnnsGSJUusbtutWzcsXLiQSSkiB2C8krthzLaSvDwgJsZ6qYWXF5CdLX8DcEFlZcATT8hfqGrdN7gahVfKUXJNTt9oUIbuweVYOKccXYPKcfpwOX44Xo78nHJ4G+oSWuamhss84PoJr2q1LwzevlD4+aJCoUFWXuOEVu2RdY31xZUiDc7nW06AhfXwRc51DQrL7R+wHgC0WnmcrMmT5S51Hh6Wv2SsXi1XgqxfL4dbfZ6ecnevFx7NQ5+JMVDWWI5XvYcXPng1G6s/jGy0H7UamDIFWLBAfn1nfNm5cwfYsQP43/+V79Roj06d5HxjbfJAkuqmigrg0qWmt0Ojke9imZAgJ6kKCuS7bJpLWAgBBAfLBYANDRkCzJ4NPP64nJCsrV4BGt8lteG++/YFtmwBBg9uevvdhb3VcM7m6CSOrSqnHTvk+Lx0yfyUmyv/rmFLex2/rC1wxUq41vohoy19hnX5pFR1dTV8fHzw0UcfYcKECcb5M2fORFFREfbs2WN1eyaliByH8UruhjHbivLy5G+klgQFuWxCqpYQwJ/+BPz+903rAlefj49c2TNypDxY87Vr5velRjV6dS7HifRyKO9YqOzKypIbZEtEhPwpt7YSrCUlEg5QA5XFxFWXGF8U1mhw7rIvCmsaJsB8IWk0CI/2xbcnGm9fAR8Y0PiTfUQE8PTTcrIkOBhNquwz/GQgUlLkJNenn9oXF/fyy86FC8DGjcDmzcDt2/Zt05QxpX780fIxenjIoaXXW34te+4WWTsof8eOwK9/DTz5pPlxuyyNc/fWW8APP8jjpNXUyPOVSmDJEuC119pe1ZReL8fvP/5he12NBggLAzp0kJO5HTrUTbdv27ePXr3kYQMtXbvssW8f8ItfNG9be9lTPdZaevaUrx/jx8u/v1hrU1vqIubux+MqN9eozxXucOqK7M29OK0HfUFBAfR6PUJDQ03mh4aG4lz9eya3UFVVFarq1RCXlJQAkN9sgxM/3BkMBgghnNoGInsxXsndMGZbUUSEPFnjBuf5d7+TuyRNmCBBCMn2BgCiogRGjwZGjxZ48EG5KAyQEyCTJ0t3qzvq9iVJAjXwwNI1AZC6BMDiWcnMhMKOpJRh9+66bpFCyH2i7iao9CXlmPhwBSpulMEHFY2qtjQoRaC6HP16lKPmdjl0JabdGOuv74M7dp0PWzyggxbF0KK48cK7VUkPWNq4DMAJy/u+Ay9jskr4+MK/kwYdInwhpfsAJzUQvr5AeTnseWcNmZlAdTWGd1Rj+B/VuPysGv/a4YkPtqtxo9gT1VCjBh6ogQcE6r4QCCG/xwsXAmPHCru/7Fj6AqjTyV0QN2yQkJzcuOXx8QIJCQKbNkl3X9801gDg7bcFJMnyn6AkyYO6W4pXAPjwQ4FRo+ScXkYGcPiwhIwM4MoVeV177xY5uf85/PqVLhg3rq5bprl2TZggD4xv6UvxL38JPPmkhOPHJej18gD2e/YIbN4sWr2XsLOkpACLFkk4dUqyK+G3ZU+ExYoevR7Yu1e6m3hsHEeSJBARAZw5I8dsTY2cmLpyRU5WXr0KJCdL2LvX9l/PxIkCjz8OPP64wLBhrf+F//p1uWvulSvN/yLu4yMQFATk5dk+nvPn5a6iixcDMTEC48YB48YJJCTUHduuXcDzz0vGvwcAiIgQ+OtfhVt2EWsLx5OWZj1GhAAuX5bHv3NEJdyuXfI1Vk721p3XH38UePRRYMeOpp3btvQZ1t5jcFql1NWrV9G5c2ccPHgQiYmJxvm/+93vkJaWhoyMDKvb21sptWzZMixfvrzR/B9++AF+fn7NantrMBgMKC4uRkBAgNtnQKntY7ySu2HMkjkHD6rxyCOBNtebNascv/lNBaKiLJeO/Oc/nnjtNX/k59d9K+vUSY8VK0owZkyVxe0AQHXqFIKSkmy2o+DLL6Hr399qG+bM0QIwn2zYtKnIpC3l5RJycpTIyVEhJ0eFtDQ1jh5VQwG9MbHVOLlVht88fhP/M6AIUkVF3VReDkW9x7XzUV4BXVEFFHcq4FFdDoXe9bszWlMDFaqhbjQpvTyg9lVB6eMBta8HPP1UUHp7QKjVgEfdv3nXvHA40xdFFZ7GbdW+KoR1VSL3ijdulngZ59fAAwalB+KHAD9LEoiKVQBqD6Qf8cU7mzrgxwJv1MAD1VAjMFSJF5ZUYcRoAeHhIWeBrGQImhOvV68qkJnpgWObzmHDd/fZPFc7l6TigeeslJs0QU0NsG6dL/76Vw10Ojm2lUqBZ58tx8KFZVCr5WRMRoYa168rEBpqQEJCdZOTJK2xj6Y4f16JlSv9kJwsZ7jtSfhVwgtFGd8AkZZ/HGjqtaAhe6+N9YWE6DF2bCUmTqzEwIE1JkPV2XteKyokHDrkgQMHPPHNN2pkZdl/R9P+/asxdGgNIiL0JlNgoIDBAEwYeAeGG7chzKaqBYqUQcjVdzW776AgPR5+uAodOxqwfr1vo2SDvefV1dTGibsfz7Zt3njhhQCb640aVYlXXy1Fjx5WykBbSK8HhgwJRn6+AjATa5IkEB5uwHff3WzSHU7bymfY0tJS9OrVi933zFVKdenSBYWFhU7vvnfz5k0EBwe7fbBR28d4JXfDmCVztm0DfvUr2/Hwr38Z7LolfbO7QOTlQYqNhWRlrC7h5QWRlWWza6S5X727dBF4+23bv8ympgLDh9s+HykpLfi1uXbA+voD0Td8XFGBzAPl+Pwj82N11X/cyb8MXvpySOXlzWxQ2yUUCjk5dTchZnxsnKdGSZUaVQY1VL5qaINVkBquY2b68cRNRHy60ebr/zD/r4geEyPfCrClk0IBSBJOnpSrpk6cqIvv/v0FfvUrgbVrW1bt4ciKkYICYMUKCRs3Anp93etN630MW8/ZHjTLcOSIzZtJtORaoNcDPXpYrrYCBHx85EcVFY2Xd+8uMGUKMGWKwIULls/ruHHA0aNypVhKioSDB4GaGvsqVxuyel3Ky4PoFWtzfLlL+7Kw62gkPvlEQno6YDCYP3ZLyYaICCAnx/6qSWeSu7xJuHoVMHc8gEDnzkBuro3judulX28AjmfKsR0UBAwYCCgVuKdd+ktK5C7Xb74pobTU/rhJSJCvGZMny80zpzn/n9+6Jd8BdvnyVvh/tN5QCQaDAYWFhejQoUPdZ1g3GCrBnJKSEnTo0MF1k1KAPND50KFDsW7dOgDyGxAZGYkFCxZwoHMiF8J4JXfDmCVz7B1U2CGD3zb4AHr79m0EBgY26wNoc5NjtsYbcuS4HE1+bwwGeVTw+smtzExg1izbO/nVr+TBeKqr66aaGqC6Grfyq5GZYa42Sp48UNNongr37lf4dk2pBFQqCJUKVToVyqpU0MH2FN1bhaDQu8mtu/toOF26qkJKqgo1DbbV3/134mMqxMbV28bCfmxN1QYVduxSYdNmFQrLal9DiaBQFV5crMKEmCwoxoyyfS7svMNpS8YKsjYIPSCPpZaUJHc53bYN2LvXvsHE6/PxkQffN0eS5CHhhg8H3nvP8l0a7bouNePOsQUFwGefAXv2yGNnWWpnQ44cLL2p768QwJkzwBdfyO/Z8eO2XyMoSD51cXFAv37yv7GxgLc3nHbzk6IiYO1auStyUVHz96NSAaNHAzNmyN2Ea8eps3c8qOJi+fzv3y9PJ0/a/9offgjLP3a1gZvKWOLyA50DwPbt2zFz5kz8/e9/x9ChQ7FmzRrs2LED586dQ2hoKGbMmIHOnTtj1apVAOTqqrNnzwIARo8ejenTp2P69OnQaDSIjo626zWZlCJqOsYruRvGLJnjSkmY+pwZr/Z8EXXEOCOt8t4044toc9rRuTOQnCwPTp6dDfyQpcd/s2uQm12NopvmE1eWklsrXqlGn+hq0wSZmWSZ1amp65D7kSQ58BUKear/uBWfFxQqcCFHgYpqJQxQwAAF1F4K9O6jRFgn0/Wr9Qr8eFWBi3kK/HhdCb1QGLfRo257a88DtAp066FA92glukUp4OMr7/90lhL/74PadevWF3e3f2qeEgMHWzmeS5eAl16yfV43bJCTAZJkrM6DJKGqWsKmdyX8a5sCApLJJLej7vmEiQo8t1BCYMd6t72st6/WmvfJpxJ+t1jClat1bejcWcJbf5EwYWLddrcLJXyVIuGLLyV8+SXuVka1jEIBREUB4yIy8dbXLbvGNkVREbBmjTwV1xuqUKkE/ud/gAMH5Ofm/u/6xz/kbT74wHzySKuV7/waGSnfSMHSXfxefVW+fO7fL1f5NXeYp3/+U775g1mt8H+Xq3KLpBQArF+/Hn/+859x7do1/OQnP8HatWuRkJAAAHjooYfQrVs3bNmyBQBw8eJFdO/evdE+hg0bhtTUVLtej0kpoqZjvJK7YcySJa6ShKnP2fFq6W5oa9Y49ly0+L1ppQ/2LWlHcbGcqNqyRf6+a4vVX8/vBSHkEdabktw6exZ4/nnb+547FwgJkfdfO+n1ps+bO93dz51SHQquW66T8oB7j2FG1JoMDRJq5pJq9s4zQAEVdAi2Mih/LREeDqn+7TLrDzhWb56AXByk0wEqlQQvb7ljod4AFBVLKCoyTQIJSPD3BwIDAbUHUFou4cYNefva5SoVEBoCGIeOliRUVsnX5pJioEbfuC0Nxx2z9bx2nrcX4KsBCgsBnR37DQmREBYmJ/lMzktFhfwfhy1MSrUdTEoRNR3jldwNY5ascZUkTC1XiFdXuUV4i96bVuwC0dIYcamuoi3lQr/ib9sGTJtmbQ25lsZS0kpp7KDXvCk0UIeIcB06h+qhr9LhcLrtbbpH6PDgfToEac0k2woK5BIMW/r0kftPGQzyH6vBUDe15Hnt4/b1dZDIPbXhpJTKgW0iIiIicrpJk4Dx410jCeMqlErXSI606L2JjJQTTgVWfsm3c6yulsbIAw/I3Q1tdUd84AH79key8HBba0gwQIm5zyoRG+tp0rNLqZSnc+eAP/yhmQ24fXf63vaqKhXwf/8HjB1rvlAEgP0Jvw8+uLdfRoWQpxYkuDIOGTBrhr5eJz0DlGj8fP3fDBgQ3woJNWvP8/LkQYhseeIJIDS07vhrE3R3p/PnBT7/TK43wt2aIUW9GqKfJghUVQpc/K8BpaWmtUa162kDBIqL6+Y1rF1KTDCgc7iAQS9QVSXvr/qOAVWV8vOSYoEb1xtva25fChjg6y2g1cqv66+R59UeT1GhQG6u5W0jOgn4aYTZ8yGEQPmtSmjKrts8rQUIhA7ynRTlcydTqQAPFQAIk98O6q/T8LmXJ+DtAyilBhfShhdWcxdaK+vUVmnVVFt+7drnHh7yvSMUtX/HZvar08vFprWLJAhIknzMQgB6nek2SoWASnV3yHmDoa7cq51iUoqIiIjaHVdJwlBjLXpvIiNbbSDYlrRDqZQHyX30UTkhYa4b4Jo1bpIIDQqSK8xsVaBZuq1VK7I32ff225bPrV4vd6+0NW7YF18A58/Lec5z5+QpK8t0bBtrdDrA399KQsqV1B/PqJkGdwfKfm/7vek/H8C9jvvMTPuSUgsWWE329QRw2krVZPzdqskhAjhxAti5E9ixA8jJqbcTG/HikSnHye3bLStY+81vgNdfl9tmiRZArpXjibVSBSoBOPePTAz+re0k6nivZBysNHNedXcnO8yZA7zyChDU1b71m0oCkJFqZ0XrPtv/F6gASFYqjnPOAb/9bd04WDAAHXyBN98EnvxJJhRD7EhOt2FMShERERERtbJJk+Txp8zd1clZXUWbpUEFWkvvFtkSrZHss2cff/sb0LevPNUnBHDjhnwb+JUrbbc3P9/GCi6U8GupNpWIrceeqklJAgYMkKc//rEuQfX++7YHGq+pAW7dank7p0+3npCq1ZIq0AED7GtLWhrwY6g8wHj9KSfH/sTbtGlA13uUkKrV2hWt1n7I6N1b7q69ZQuwaJE8DlVhoZx8OzwAeLe5B9FGMClFRERERHQPtJmuovUr0AwG6G7ckAc1d8IYaK2R7GvuPiRJ7u3185/bl5Sy2d2wFbucugKXScS2crKvKVWT9RNU/frJySJ7mhsVBYSFNZ6Cg+VE3/XrrdcVuLlVoPZet1QqOaHUtSswblzd/LIy4C9/AZYts70PmwndVuDoRKpCId+B75e/BF54Adi6VZ6febx19u/OmJQiIiIiIrpH2FW09bVGsq8l+2jVCotW7HLqClwiEesi1X2dOtm33s6d1q8R77zjIhVoLUz2aTTAsGH2vZTt8eNahzMSqSEhwL/+BcycCcybBxTkBOEOvOANy+dV7+EFpRtUTDYX777nJK5wpx0iezFeyd0wZsmdMF7JnTBeZbt2yYkCwHyi4KOP3KiLZhvnrJjV64Fu3WwnL3NzbSeVXOausXl5QEEB9Hrg+HE57xcUJFeGKZWwmexrzXPSmpx1B9o7d4AVK4Ctq/MQBPMVkxIAj/AgpF+OdLsqW959j4iIiIiI6B5wma5q5LJas3uYS1SgAcbKPiWAwUOavrmrjj3mrIpWb28gKQlYvToSl2Glci9ffu/batVt+/15g4iIiIiIqJkmTQIuXpQHMP7wQ/nf3FwmpKhObfKyc2fT+RERTa+mq02cTJ0q/+tuVTO1WvOctAX2jp/liHG2nIWVUkRERERERM3AMcPIFpepcnIhPCd17B0/y1HjbDkDk1JERERERERE9wiTl43xnMha9cYJbord94iIiIiIiIiIHKx2nC2gblytWs4cZ8uRmJQiIiIiIiIiInKC9j7OFrvvERERERERERE5Se04W2lpBmRnlyAmxh/DhinadIVULSaliIiIiIiIiIicqHacrT59KhES4g9FO+nX1k4Ok4iIiIiIiIiIXAmTUkRERERERERE5HBMShERERERERERkcMxKUVERERERERERA7HpBQRERERERERETkck1JERERERERERORwTEoREREREREREZHDMSlFREREREREREQOx6QUERERERERERE5HJNSRERERERERETkcExKERERERERERGRwzEpRUREREREREREDsekFBERERERERERORyTUkRERERERERE5HBMShERERERERERkcOpnN0ARxNCAABKSkqc2g6DwYDS0lJ4eXlBoWBukFwb45XcDWOW3AnjldwJ45XcDWOW3ElbitfanEttDsaSdpeUKi0tBQB06dLFyS0hIiIiIiIiImq7SktLERAQYHG5JGylrdoYg8GAq1evws/PD5IkOa0dJSUl6NKlCy5fvgx/f3+ntYPIHoxXcjeMWXInjFdyJ4xXcjeMWXInbSlehRAoLS1Fp06drFZ9tbtKKYVCgYiICGc3w8jf39/tg43aD8YruRvGLLkTxiu5E8YruRvGLLmTthKv1iqkarl3J0UiIiIiIiIiInJLTEoREREREREREZHDMSnlJJ6enli6dCk8PT2d3RQimxiv5G4Ys+ROGK/kThiv5G4Ys+RO2mO8truBzomIiIiIiIiIyPlYKUVERERERERERA7HpBQRERERERERETkck1JERERERERERORwTEo5wTvvvINu3brBy8sLCQkJ+O6775zdJCIAwLJlyyBJksnUu3dv4/LKykrMnz8fHTt2hEajwSOPPILr1687scXUnhw4cABjx45Fp06dIEkSPv74Y5PlQgi8/vrrCA8Ph7e3N0aMGIHz58+brHP79m1Mnz4d/v7+0Gq1mD17NsrKyhx4FNRe2IrXWbNmNbrejhw50mQdxis5yqpVqzBkyBD4+fkhJCQEEyZMQHZ2tsk69nwGyMvLw5gxY+Dj44OQkBC89NJL0Ol0jjwUaifsidmHHnqo0XV27ty5JuswZskRNmzYgP79+8Pf3x/+/v5ITEzE559/blze3q+vTEo52Pbt2/HCCy9g6dKlyMzMRHx8PJKSknDjxg1nN40IANC3b1/k5+cbp2+//da47Pnnn8enn36KnTt3Ii0tDVevXsWkSZOc2FpqT8rLyxEfH4933nnH7PI333wTa9euxcaNG5GRkQFfX18kJSWhsrLSuM706dPx/fffIzk5GZ999hkOHDiAp556ylGHQO2IrXgFgJEjR5pcb7dt22aynPFKjpKWlob58+fj8OHDSE5ORk1NDR5++GGUl5cb17H1GUCv12PMmDGorq7GwYMH8f7772PLli14/fXXnXFI1MbZE7MAMGfOHJPr7JtvvmlcxpglR4mIiMDq1atx7NgxHD16FD//+c8xfvx4fP/99wB4fYUghxo6dKiYP3++8blerxedOnUSq1atcmKriGRLly4V8fHxZpcVFRUJDw8PsXPnTuO8rKwsAUAcOnTIQS0kkgEQu3fvNj43GAwiLCxM/PnPfzbOKyoqEp6enmLbtm1CCCHOnj0rAIgjR44Y1/n888+FJEnixx9/dFjbqf1pGK9CCDFz5kwxfvx4i9swXsmZbty4IQCItLQ0IYR9nwH27t0rFAqFuHbtmnGdDRs2CH9/f1FVVeXYA6B2p2HMCiHEsGHDxHPPPWdxG8YsOVOHDh3Eu+++y+urEIKVUg5UXV2NY8eOYcSIEcZ5CoUCI0aMwKFDh5zYMqI658+fR6dOndCjRw9Mnz4deXl5AIBjx46hpqbGJH579+6NyMhIxi85XW5uLq5du2YSnwEBAUhISDDG56FDh6DVajF48GDjOiNGjIBCoUBGRobD20yUmpqKkJAQxMTEYN68ebh165ZxGeOVnKm4uBgAEBgYCMC+zwCHDh1CXFwcQkNDjeskJSWhpKTEWA1AdK80jNlaW7duRVBQEPr164eXX34ZFRUVxmWMWXIGvV6Pf//73ygvL0diYiKvrwBUzm5Ae1JQUAC9Xm8STAAQGhqKc+fOOalVRHUSEhKwZcsWxMTEID8/H8uXL8cDDzyAM2fO4Nq1a1Cr1dBqtSbbhIaG4tq1a85pMNFdtTFo7vpau+zatWsICQkxWa5SqRAYGMgYJocbOXIkJk2ahO7duyMnJwe///3vMWrUKBw6dAhKpZLxSk5jMBiwcOFC3H///ejXrx8A2PUZ4Nq1a2avwbXLiO4VczELANOmTUPXrl3RqVMnnDp1CosXL0Z2djZ27doFgDFLjnX69GkkJiaisrISGo0Gu3fvRp8+fXDixIl2f31lUoqIjEaNGmV83L9/fyQkJKBr167YsWMHvL29ndgyIqK25fHHHzc+jouLQ//+/REVFYXU1FQMHz7ciS2j9m7+/Pk4c+aMyZiSRK7MUszWH4MvLi4O4eHhGD58OHJychAVFeXoZlI7FxMTgxMnTqC4uBgfffQRZs6cibS0NGc3yyWw+54DBQUFQalUNhpJ//r16wgLC3NSq4gs02q16NWrFy5cuICwsDBUV1ejqKjIZB3GL7mC2hi0dn0NCwtrdFMJnU6H27dvM4bJ6Xr06IGgoCBcuHABAOOVnGPBggX47LPP8PXXXyMiIsI4357PAGFhYWavwbXLiO4FSzFrTkJCAgCYXGcZs+QoarUa0dHRGDRoEFatWoX4+Hj87W9/4/UVTEo5lFqtxqBBg5CSkmKcZzAYkJKSgsTERCe2jMi8srIy5OTkIDw8HIMGDYKHh4dJ/GZnZyMvL4/xS07XvXt3hIWFmcRnSUkJMjIyjPGZmJiIoqIiHDt2zLjO/v37YTAYjB9UiZzlypUruHXrFsLDwwEwXsmxhBBYsGABdu/ejf3796N79+4my+35DJCYmIjTp0+bJFOTk5Ph7++PPn36OOZAqN2wFbPmnDhxAgBMrrOMWXIWg8GAqqoqXl8B3n3P0f79738LT09PsWXLFnH27Fnx1FNPCa1WazKSPpGzvPjiiyI1NVXk5uaK9PR0MWLECBEUFCRu3LghhBBi7ty5IjIyUuzfv18cPXpUJCYmisTERCe3mtqL0tJScfz4cXH8+HEBQLz99tvi+PHj4tKlS0IIIVavXi20Wq3Ys2ePOHXqlBg/frzo3r27uHPnjnEfI0eOFAMGDBAZGRni22+/FT179hRTp0511iFRG2YtXktLS8WiRYvEoUOHRG5urvjqq6/EwIEDRc+ePUVlZaVxH4xXcpR58+aJgIAAkZqaKvLz841TRUWFcR1bnwF0Op3o16+fePjhh8WJEyfEF198IYKDg8XLL7/sjEOiNs5WzF64cEGsWLFCHD16VOTm5oo9e/aIHj16iAcffNC4D8YsOcqSJUtEWlqayM3NFadOnRJLliwRkiSJffv2CSF4fWVSygnWrVsnIiMjhVqtFkOHDhWHDx92dpOIhBBCTJkyRYSHhwu1Wi06d+4spkyZIi5cuGBcfufOHfH000+LDh06CB8fHzFx4kSRn5/vxBZTe/L1118LAI2mmTNnCiGEMBgM4rXXXhOhoaHC09NTDB8+XGRnZ5vs49atW2Lq1KlCo9EIf39/8cQTT4jS0lInHA21ddbitaKiQjz88MMiODhYeHh4iK5du4o5c+Y0+oGK8UqOYi5WAYjNmzcb17HnM8DFixfFqFGjhLe3twgKChIvvviiqKmpcfDRUHtgK2bz8vLEgw8+KAIDA4Wnp6eIjo4WL730kiguLjbZD2OWHOHJJ58UXbt2FWq1WgQHB4vhw4cbE1JC8PoqCSGE4+qyiIiIiIiIiIiIOKYUERERERERERE5AZNSRERERERERETkcExKERERERERERGRwzEpRUREREREREREDsekFBERERERERERORyTUkRERERERERE5HBMShERERERERERkcMxKUVERERERERERA7HpBQRERFRM3Xr1g1r1qyxe/3U1FRIkoSioqJ71iYiIiIid8GkFBEREbV5kiRZnZYtW9as/R45cgRPPfWU3evfd999yM/PR0BAQLNeryk2bdqE+Ph4aDQaaLVaDBgwAKtWrTIunzVrFiZMmHDP20FERERkicrZDSAiIiK61/Lz842Pt2/fjtdffx3Z2dnGeRqNxvhYCAG9Xg+VyvbHpODg4Ca1Q61WIywsrEnbNMd7772HhQsXYu3atRg2bBiqqqpw6tQpnDlz5p6/NhEREZG9WClFREREbV5YWJhxCggIgCRJxufnzp2Dn58fPv/8cwwaNAienp749ttvkZOTg/HjxyM0NBQajQZDhgzBV199ZbLfht33JEnCu+++i4kTJ8LHxwc9e/bEJ598YlzesPveli1boNVq8eWXXyI2NhYajQYjR440SaLpdDo8++yz0Gq16NixIxYvXoyZM2darXL65JNPMHnyZMyePRvR0dHo27cvpk6dij/+8Y8AgGXLluH999/Hnj17jNViqampAIDLly9j8uTJ0Gq1CAwMxPjx43Hx4kXjvmsrrJYvX47g4GD4+/tj7ty5qK6uNq7z0UcfIS4uDt7e3ujYsSNGjBiB8vLyJr5rRERE1NYxKUVEREQEYMmSJVi9ejWysrLQv39/lJWVYfTo0UhJScHx48cxcuRIjB07Fnl5eVb3s3z5ckyePBmnTp3C6NGjMX36dNy+fdvi+hUVFXjrrbfwwQcf4MCBA8jLy8OiRYuMy//0pz9h69at2Lx5M9LT01FSUoKPP/7YahvCwsJw+PBhXLp0yezyRYsWYfLkycYEWH5+Pu677z7U1NQgKSkJfn5++Oabb5Cenm5MlNVPOqWkpCArKwupqanYtm0bdu3aheXLlwOQq9KmTp2KJ5980rjOpEmTIISw2mYiIiJqf5iUIiIiIgKwYsUK/OIXv0BUVBQCAwMRHx+P3/72t+jXrx969uyJlStXIioqyqTyyZxZs2Zh6tSpiI6OxhtvvIGysjJ89913FtevqanBxo0bMXjwYAwcOBALFixASkqKcfm6devw8ssvY+LEiejduzfWr18PrVZrtQ1Lly6FVqtFt27dEBMTg1mzZmHHjh0wGAwA5O6K3t7e8PT0NFaMqdVqbN++HQaDAe+++y7i4uIQGxuLzZs3Iy8vz1hJBcjdEN977z307dsXY8aMwYoVK7B27VoYDAbk5+dDp9Nh0qRJ6NatG+Li4vD000+bdJEkIiIiApiUIiIiIgIADB482OR5WVkZFi1ahNjYWGi1Wmg0GmRlZdmslOrfv7/xsa+vL/z9/XHjxg2L6/v4+CAqKsr4PDw83Lh+cXExrl+/jqFDhxqXK5VKDBo0yGobwsPDcejQIZw+fRrPPfccdDodZs6ciZEjRxoTU+acPHkSFy5cgJ+fHzQaDTQaDQIDA1FZWYmcnBzjevHx8fDx8TE+T0xMRFlZGS5fvoz4+HgMHz4ccXFxeOyxx7Bp0yYUFhZabS8RERG1TxzonIiIiAhyAqm+RYsWITk5GW+99Raio6Ph7e2NRx991KQbmzkeHh4mzyVJspoIMrd+a3V169evH/r164enn34ac+fOxQMPPIC0tDT87Gc/M7t+WVkZBg0ahK1btzZaZu+g7kqlEsnJyTh48CD27duHdevW4ZVXXkFGRga6d+/eouMhIiKitoWVUkRERERmpKenY9asWZg4cSLi4uIQFhZmMuC3IwQEBCA0NBRHjhwxztPr9cjMzGzyvvr06QMAxgHH1Wo19Hq9yToDBw7E+fPnERISgujoaJMpICDAuN7Jkydx584d4/PDhw9Do9GgS5cuAOTE2v3334/ly5fj+PHjUKvV2L17d5PbTERERG0bk1JEREREZvTs2RO7du3CiRMncPLkSUybNs1qxdO98swzz2DVqlXYs2cPsrOz8dxzz6GwsBCSJFncZt68eVi5ciXS09Nx6dIlHD58GDNmzEBwcDASExMByHcOPHXqFLKzs1FQUICamhpMnz4dQUFBGD9+PL755hvk5uYiNTUVzz77LK5cuWLcf3V1NWbPno2zZ89i7969WLp0KRYsWACFQoGMjAy88cYbOHr0KPLy8rBr1y7cvHkTsbGx9/xcERERkXthUoqIiIjIjLfffhsdOnTAfffdh7FjxyIpKQkDBw50eDsWL16MqVOnYsaMGUhMTIRGo0FSUhK8vLwsbjNixAgcPnwYjz32GHr16oVHHnkEXl5eSElJQceOHQEAc+bMQUxMDAYPHozg4GCkp6fDx8cHBw4cQGRkJCZNmoTY2FjMnj0blZWV8Pf3N+5/+PDh6NmzJx588EFMmTIF48aNw7JlywAA/v7+OHDgAEaPHo1evXrh1VdfxV/+8heMGjXqnp4nIiIicj+S4P15iYiIiNyGwWBAbGwsJk+ejJUrVzr89WfNmoWioiJ8/PHHDn9tIiIials40DkRERGRC7t06RL27duHYcOGoaqqCuvXr0dubi6mTZvm7KYRERERtQi77xERERG5MIVCgS1btmDIkCG4//77cfr0aXz11Vcco4mIiIjcHrvvERERERERERGRw7FSioiIiIiIiIiIHI5JKSIiIiIiIiIicjgmpYiIiIiIiIiIyOGYlCIiIiIiIiIiIodjUoqIiIiIiIiIiByOSSkiIiIiIiIiInI4JqWIiIiIiIiIiMjhmJQiIiIiIiIiIiKHY1KKiIiIiIiIiIgc7v8DMxODDrrpKBQAAAAASUVORK5CYII=)"
   ],
   "metadata": {
    "id": "kbUnM95n5Bsr"
   }
  },
  {
   "cell_type": "code",
   "source": [
    "import matplotlib.pyplot as plt\n",
    "\n",
    "# Estrai i log dal trainer\n",
    "log_history = trainer.state.log_history\n",
    "\n",
    "# Separa training loss e validation loss\n",
    "train_logs = [log for log in log_history if \"loss\" in log and \"eval_loss\" not in log]\n",
    "eval_logs = [log for log in log_history if \"eval_loss\" in log]\n",
    "\n",
    "# Estrai i valori\n",
    "train_loss = [log[\"loss\"] for log in train_logs]\n",
    "eval_loss = [log[\"eval_loss\"] for log in eval_logs]\n",
    "\n",
    "# Crea gli step corrispondenti\n",
    "train_steps = [log[\"step\"] for log in train_logs]\n",
    "eval_steps = [log[\"step\"] for log in eval_logs]\n",
    "\n",
    "# Crea il plot\n",
    "plt.figure(figsize=(12, 6))\n",
    "plt.plot(train_steps, train_loss, marker='o', label='Training Loss', color='blue', linewidth=2)\n",
    "plt.plot(eval_steps, eval_loss, marker='s', label='Validation Loss', color='red', linewidth=2)\n",
    "\n",
    "plt.xlabel(\"Training Steps\")\n",
    "plt.ylabel(\"Loss\")\n",
    "plt.title(\"Training and Validation Loss Over Time\")\n",
    "plt.legend()\n",
    "plt.grid(True, alpha=0.3)\n",
    "plt.tight_layout()\n",
    "\n",
    "plt.show()\n",
    "\n",
    "# Opzionale: stampa alcune statistiche\n",
    "print(f\"Training loss finale: {train_loss[-1]:.4f}\")\n",
    "print(f\"Validation loss finale: {eval_loss[-1]:.4f}\")\n",
    "print(f\"Numero di step di training: {len(train_steps)}\")\n",
    "print(f\"Numero di step di validation: {len(eval_steps)}\")"
   ],
   "metadata": {
    "id": "8lQBbY7krts7"
   },
   "execution_count": null,
   "outputs": []
  },
  {
   "cell_type": "markdown",
   "source": [
    "Come vediamo, il training loss tende a decrescere, quindi il modello ha appreso correttamente dagli esempi."
   ],
   "metadata": {
    "id": "pSzv4jOyfWyR"
   }
  },
  {
   "cell_type": "markdown",
   "metadata": {
    "id": "U-xJS7xbVBwD"
   },
   "source": [
    "## **Prova Finale**\n",
    "\n",
    "Infine riproviamo l'esempio fatto all'inizio e vediamo se riesce effettivamente a svolgere ciò che gli chiediamo.\n",
    "\n",
    "Riproviamo a fargli generare una risposta sull'esempio provato all'inizio:"
   ]
  },
  {
   "cell_type": "code",
   "execution_count": null,
   "metadata": {
    "id": "Z2myPLSw3RA8"
   },
   "outputs": [],
   "source": [
    "# Funzioni per misurare la performnce\n",
    "from time import perf_counter\n",
    "from contextlib import contextmanager\n",
    "\n",
    "# Funzione per calcolare il tempo di esecuzione\n",
    "@contextmanager\n",
    "def timer(name=\"\"):\n",
    "    start = perf_counter()\n",
    "    yield\n",
    "    end = perf_counter()\n",
    "    print(f\"[{name}] Elapsed: {end - start:.4f} sec\")"
   ]
  },
  {
   "cell_type": "code",
   "execution_count": null,
   "metadata": {
    "id": "IuMcIXwaVOYp"
   },
   "outputs": [],
   "source": [
    "function = {\n",
    "\"name\": \"validate_fiscal_code\",\n",
    "\"description\": \"Given a fiscal code, it returns true if it's valid, false otherwise\",\n",
    "\"parameters\": {\n",
    "  \"type\": \"object\",\n",
    "  \"properties\": {\n",
    "    \"fiscal_code\": {\n",
    "      \"type\": \"string\",\n",
    "      \"description\": \"The fiscal code to validate\"\n",
    "    }\n",
    "  },\n",
    "  \"required\": [\"fiscal_code\"]}\n",
    "}\n",
    "\n",
    "# E chiediamo al modello di generare una password di 10 caratteri.\n",
    "print(generate_response(\n",
    "        peft_model,\n",
    "        tokenizer,\n",
    "        \"Is CTTPLL98T10B123F a valid fiscal code?.\",\n",
    "        system_prompt=system_prompt_from_functions([function])\n",
    "    ))"
   ]
  },
  {
   "cell_type": "markdown",
   "metadata": {
    "id": "phj1AfT70HeW"
   },
   "source": [
    "### Salvataggio e distribuzione dei modelli\n",
    "\n",
    "Ok, ora abbiamo addestrato il nostro modello. Come facciamo ad usarlo?\n",
    "\n",
    "Un modo è semplicemente scaricarlo da colab come zip."
   ]
  },
  {
   "cell_type": "code",
   "execution_count": null,
   "metadata": {
    "id": "JUpJouUNHHgd"
   },
   "outputs": [],
   "source": [
    "import os\n",
    "from google.colab import files\n",
    "\n",
    "# Scommenta questo codice se vuoi scaricare il file come zip.\n",
    "# os.system(f\"zip -r {name}.zip {output_dir}\")\n",
    "# files.download(f\"{name}.zip\")"
   ]
  },
  {
   "cell_type": "markdown",
   "source": [
    "Un modo più elegante consiste nel condividerlo con i propri colleghi usando la repository di hugging face.\n",
    "\n",
    "Prima di tutto accediamo con la nostra api key."
   ],
   "metadata": {
    "id": "9yy7MJAcfx1f"
   }
  },
  {
   "cell_type": "code",
   "source": [
    "from huggingface_hub import login\n",
    "login()\n",
    "your_user_name = ___INSERT_HERE_YOUR_HUGGING_FACE_USERNAME___\n"
   ],
   "metadata": {
    "id": "Xvct-Tss7dEO"
   },
   "execution_count": null,
   "outputs": []
  },
  {
   "cell_type": "markdown",
   "source": [
    "Ora ci basta invocare il metodo push_to_hub per caricarlo su una repository sul nostro profilo:"
   ],
   "metadata": {
    "id": "sshbNMUIgKUR"
   }
  },
  {
   "cell_type": "code",
   "source": [
    "peft_model.push_to_hub(f'{your_user_name}/smol-function-calling')\n",
    "tokenizer.push_to_hub(f'{your_user_name}/smol-function-calling') # Ricordiamoci di mandare anche il tokenizer relativo"
   ],
   "metadata": {
    "id": "4KdjRm_KgUVo"
   },
   "execution_count": null,
   "outputs": []
  },
  {
   "cell_type": "markdown",
   "source": [
    "## Next steps\n",
    "Inizialmente ci siamo detti che il punto forte di LoRA è che, non si va a modificare il modello originale, ma si aggiungono delle matrici per modificarne il comportamento.\n",
    "\n",
    "Questo permette più semplicità di training e modularità della soluzione.\n",
    "\n",
    "Tuttavia ci sono dei casi in cui ha senso unire il modello originale con il relativo Lora per ottenere un modello \"unito\", in modo da distribuirlo come standalone.\n",
    "\n",
    "Ecco come fare:"
   ],
   "metadata": {
    "id": "sxCTjgfZgaJv"
   }
  },
  {
   "cell_type": "code",
   "source": [
    "name = f\"SmolLM2-135M-Instruct-noqlora-r16-alpha64-BIG\" # nome con cui salviamo il modello\n",
    "output_dir = f\"results/{name}\"\n",
    "\n",
    "finetuned_model_path = f\"{output_dir}/merged_model\"\n",
    "\n",
    "merged_model = peft_model.merge_and_unload()\n",
    "merged_model.save_pretrained(finetuned_model_path)\n",
    "#merged_model.push_to_hub(f'{your_user_name}/smol-function-calling')\n",
    "#tokenizer.push_to_hub(f'{your_user_name}/smol-function-calling')"
   ],
   "metadata": {
    "id": "dWNoCk7m7qz-"
   },
   "execution_count": null,
   "outputs": []
  },
  {
   "cell_type": "markdown",
   "source": [
    "Testiamo il modello separato e unito: come noteremo, sono identici:"
   ],
   "metadata": {
    "id": "gEtQ5DApg_BT"
   }
  },
  {
   "cell_type": "code",
   "source": [
    "function1 = {\n",
    "    \"name\": \"get_time\",\n",
    "    \"description\": \"Get the current time at a given location\",\n",
    "    \"parameters\": {\n",
    "        \"type\": \"object\",\n",
    "        \"properties\": {\n",
    "            \"latitude\": {\n",
    "                \"type\": \"number\",\n",
    "                \"description\": \"The latitude of the location\"\n",
    "            },\n",
    "            \"longitude\": {\n",
    "                \"type\": \"number\",\n",
    "                \"description\": \"The longitude of the location\"\n",
    "            }\n",
    "        },\n",
    "        \"required\": [\n",
    "            \"latitude\",\n",
    "            \"longitude\"\n",
    "        ]\n",
    "    }\n",
    "}\n",
    "\n",
    "function2 = {\n",
    "    \"name\": \"get_weather\",\n",
    "    \"description\": \"Get the weather at a given location\",\n",
    "    \"parameters\": {\n",
    "        \"type\": \"object\",\n",
    "        \"properties\": {\n",
    "            \"latitude\": {\n",
    "                \"type\": \"number\",\n",
    "                \"description\": \"The latitude of the location\"\n",
    "            },\n",
    "            \"longitude\": {\n",
    "                \"type\": \"number\",\n",
    "                \"description\": \"The longitude of the location\"\n",
    "            }\n",
    "        },\n",
    "        \"required\": [\n",
    "            \"latitude\",\n",
    "            \"longitude\"\n",
    "        ]\n",
    "    }\n",
    "}\n",
    "\n",
    "with timer(name=\"Generate Response for LoRA model\"):\n",
    "  test_prompts = [\n",
    "    \"What time is it in Tokyo (Lat: 35.6895, Long: 139.6917)?\",\n",
    "    \"What's the weather like in New York (Lat: 40.7128, Long: -74.0060)?\"\n",
    "  ]\n",
    "  for prompt in test_prompts:\n",
    "    print(generate_response(\n",
    "          peft_model,\n",
    "          tokenizer,\n",
    "          prompt,\n",
    "          system_prompt=system_prompt_from_functions([function1, function2])\n",
    "      ))\n",
    "\n",
    "with timer(name=\"Generate Response for merged model\"):\n",
    "  test_prompts = [\n",
    "    \"What time is it in Tokyo (Lat: 35.6895, Long: 139.6917)?\",\n",
    "    \"What's the weather like in New York (Lat: 40.7128, Long: -74.0060)?\"\n",
    "  ]\n",
    "  for prompt in test_prompts:\n",
    "    print(generate_response(\n",
    "          merged_model,\n",
    "          tokenizer,\n",
    "          prompt,\n",
    "          system_prompt=system_prompt_from_functions([function1, function2])\n",
    "      ))\n"
   ],
   "metadata": {
    "id": "B77R57jo9bFE"
   },
   "execution_count": null,
   "outputs": []
  },
  {
   "cell_type": "markdown",
   "source": "Questa sezione si conclude qui, prosegui con \"03_convert_to_gguf.ipynb\"",
   "metadata": {
    "id": "syWIbg-Xpek3"
   }
  }
 ],
 "metadata": {
  "accelerator": "GPU",
  "colab": {
   "gpuType": "T4",
   "provenance": []
  },
  "kernelspec": {
   "display_name": "Python 3",
   "name": "python3"
  },
  "language_info": {
   "name": "python"
  }
 },
 "nbformat": 4,
 "nbformat_minor": 0
}
